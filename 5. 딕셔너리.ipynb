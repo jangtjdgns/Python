{
 "cells": [
  {
   "cell_type": "markdown",
   "id": "fe9919fe",
   "metadata": {},
   "source": [
    "## 3주차 연습문제"
   ]
  },
  {
   "cell_type": "markdown",
   "id": "3c36ab11",
   "metadata": {},
   "source": [
    "range() 함수를 사용해서 1부터 9까지 숫자를 리스트에 저장하고 리스트의 첫번째 요소부터 마지막 요소까지 순회하면서 if-elif-else 구문을 사용하여 \"1st 2nd 3rd 4th 5th 6th 7th 8th 9th\" 순으로  출력하세요."
   ]
  },
  {
   "cell_type": "markdown",
   "id": "42fcda9f",
   "metadata": {},
   "source": [
    "range() 함수를 이용해서 숫자를 리스트에 담는방법\n",
    "~~~python\n",
    "number = list(range(1, 10))\n",
    "~~~"
   ]
  },
  {
   "cell_type": "code",
   "execution_count": 8,
   "id": "16a3d6f1",
   "metadata": {},
   "outputs": [
    {
     "name": "stdout",
     "output_type": "stream",
     "text": [
      "1st\n",
      "2nd\n",
      "3rd\n",
      "4th\n",
      "5th\n",
      "6th\n",
      "7th\n",
      "8th\n",
      "9th\n"
     ]
    }
   ],
   "source": [
    "numbers = list(range(1, 10))\n",
    "\n",
    "for number in numbers:\n",
    "    if number == 1:\n",
    "        print(f\"{number}st\")\n",
    "    elif number == 2:\n",
    "        print(f\"{number}nd\")\n",
    "    elif number == 3:\n",
    "        print(f\"{number}rd\")\n",
    "    else:\n",
    "        print(f\"{number}th\")"
   ]
  },
  {
   "cell_type": "markdown",
   "id": "f06ffc92",
   "metadata": {},
   "source": [
    "### if 문 스타일\n",
    "-pop8(Python Enhance Proposal) 에서는 가독성을 위해 조건 테스트를 할 때 ==, !=, >=, <= 등의 비교연산자 앞뒤로 공백을 하나 추가 할것을 제안한다."
   ]
  },
  {
   "cell_type": "code",
   "execution_count": null,
   "id": "e2ad9318",
   "metadata": {},
   "outputs": [],
   "source": [
    "if age < 4:   # good\n",
    "if age<4:     # bad"
   ]
  },
  {
   "cell_type": "code",
   "execution_count": null,
   "id": "b078c99e",
   "metadata": {},
   "outputs": [],
   "source": []
  },
  {
   "cell_type": "markdown",
   "id": "4227d864",
   "metadata": {},
   "source": [
    "# 딕셔너리(dictionary)"
   ]
  },
  {
   "cell_type": "markdown",
   "id": "8f8171ec",
   "metadata": {},
   "source": [
    "- 딕셔너리는 키와 값을 한쌍으로 갖는 자료형이다. 이를 연관 배열이라 부르기도 하고 혹은 해시라고도 부른다.  \n",
    "예를들어 영어 사전에서 단어의 의미를 찾을때 'peop;e'이라는 키(key)에 대해 '사람'이라는 값이 연관되어 있는 것을 말한다.\n",
    "\n",
    "- 딕셔너리는 리스트나 튜플처럼 인덱스를 사용하여 순차적으로 검색하는 것이 아니라 key를 통해서  value를 참조한다.\n",
    "\n",
    "- 딕셔너리는 저장 가능한 키-값 쌍의 갯수에 제한이 없다.\n",
    "\n",
    "- 딕셔너리는 현실 세계의 사물을 더 정확히 표현할 수 있다.  \n",
    "예를들어 사람을 표현하는 딕셔너리를 생성하고 그 사람에 관한 정보를 원하는 만큼 저장할 수 있다. 이름, 나이, 사는 곳, 직업, 성별 등 그 사람을 설명하는 속성을 저장하는 것이다."
   ]
  },
  {
   "cell_type": "markdown",
   "id": "7d562018",
   "metadata": {},
   "source": [
    "- 기본형태\n",
    "{key1:value, key2:value, ...}"
   ]
  },
  {
   "cell_type": "markdown",
   "id": "121a7b71",
   "metadata": {},
   "source": [
    "## 단순 딕셔너리\n",
    "- 몬스터가 등장하는 게임에서 몬스터에 대한 정보 **(종족<sup>species</sup>과 체력<sup>체력</sup>)** 를 저장할 때 다음과 같이 딕셔너리를 사용할 수 있다."
   ]
  },
  {
   "cell_type": "code",
   "execution_count": 15,
   "id": "af066f3e",
   "metadata": {},
   "outputs": [
    {
     "name": "stdout",
     "output_type": "stream",
     "text": [
      "ogre\n",
      "20\n"
     ]
    }
   ],
   "source": [
    "monster_0 = {'species':'ogre', 'hp':20}\n",
    "\n",
    "print(monster_0['species'])\n",
    "print(monster_0['hp'])"
   ]
  },
  {
   "cell_type": "code",
   "execution_count": 16,
   "id": "52622569",
   "metadata": {},
   "outputs": [
    {
     "name": "stdout",
     "output_type": "stream",
     "text": [
      "{'species': 'ogre', 'hp': 20, 'speed': 'medium'}\n"
     ]
    }
   ],
   "source": [
    "monster_0 = {'species':'ogre', 'hp':20, 'speed':'medium'}\n",
    "print(monster_0)"
   ]
  },
  {
   "cell_type": "markdown",
   "id": "158921fb",
   "metadata": {},
   "source": [
    "- 딕셔너리의 모든 키에 타입명[키]를 사용해 연관된 값을 얻어 올 수 있다."
   ]
  },
  {
   "cell_type": "code",
   "execution_count": 22,
   "id": "c43dbe7b",
   "metadata": {},
   "outputs": [
    {
     "name": "stdout",
     "output_type": "stream",
     "text": [
      "당신은 5점을 획득했습니다.\n"
     ]
    }
   ],
   "source": [
    "monster_0 = {'spercies':'ogre', 'points':5}\n",
    "\n",
    "# 몬스터 사망시\n",
    "earning_potints = monster_0['points']\n",
    "print(f\"당신은 {earning_potints}점을 획득했습니다.\")"
   ]
  },
  {
   "cell_type": "markdown",
   "id": "a7d35ddb",
   "metadata": {},
   "source": [
    "## 새로운 key-value 쌍 추가하기\n",
    "- 딕셔너리라는 동적으로 원하는 시점에 키-값 쌍을 추가할 수 있다. 새로운 키-값을 추가하기 위해서는 딕셔너리변수명 다음에 대괄호[]를 열고 대괄호 안에 키 값을 적은 다음에 연결하고자 원하는 값을 대입하면 된다.  \n",
    "\n",
    "- 다음은 딕셔너리 타입의 객체 monster_0 의 평면상 좌표(x_pos, y_pos)를 나타내는 키-값 쌍을 추가하는 예이다."
   ]
  },
  {
   "cell_type": "code",
   "execution_count": 25,
   "id": "e68f306e",
   "metadata": {},
   "outputs": [
    {
     "name": "stdout",
     "output_type": "stream",
     "text": [
      "{'species': 'ogre', 'points': 5, 'x_pos': 30, 'y_pos': 50}\n"
     ]
    }
   ],
   "source": [
    "monster_0 = {'species':'ogre', 'points':5}\n",
    "\n",
    "# 현재 좌표 추가\n",
    "monster_0['x_pos'] = 30\n",
    "monster_0['y_pos'] = 50\n",
    "\n",
    "print(monster_0)"
   ]
  },
  {
   "cell_type": "markdown",
   "id": "35d8a3e7",
   "metadata": {},
   "source": [
    "- 다음과 같이 빈 딕셔너리를 생성하고 필요할때마다 아이템을 추가하는 방법도 있다."
   ]
  },
  {
   "cell_type": "code",
   "execution_count": 26,
   "id": "54594fff",
   "metadata": {},
   "outputs": [
    {
     "name": "stdout",
     "output_type": "stream",
     "text": [
      "{'species': 'oger', 'points': 5}\n"
     ]
    }
   ],
   "source": [
    "monster_0 = {}\n",
    "\n",
    "monster_0['species'] = 'oger'\n",
    "monster_0['points'] = 5\n",
    "\n",
    "print(monster_0)"
   ]
  },
  {
   "cell_type": "markdown",
   "id": "dd0b1aa0",
   "metadata": {},
   "source": [
    "## 딕셔너리 값 변경\n",
    "- 딕셔너리에 들어있는 값을 변경하려면 딕셔너리명 다음에 대괄호로 감싼 키를 쓰고, 키에 연결할 새 값을 적어주면 된다."
   ]
  },
  {
   "cell_type": "code",
   "execution_count": 33,
   "id": "ac4c3a2b",
   "metadata": {},
   "outputs": [
    {
     "name": "stdout",
     "output_type": "stream",
     "text": [
      "변경후 몬스터 종족 : titan.\n"
     ]
    }
   ],
   "source": [
    "monster_0 = {'species' : 'oger'}\n",
    "\n",
    "# 몬스터의 종족 변경\n",
    "monster_0['species'] = 'titan'\n",
    "print(f\"변경후 몬스터 종족 : {monster_0['species']}.\")"
   ]
  },
  {
   "cell_type": "markdown",
   "id": "4d8e1d03",
   "metadata": {},
   "source": [
    "- 딕셔너리 사용 예"
   ]
  },
  {
   "cell_type": "code",
   "execution_count": 37,
   "id": "360735b8",
   "metadata": {
    "scrolled": true
   },
   "outputs": [
    {
     "name": "stdout",
     "output_type": "stream",
     "text": [
      "Originam X position: 0\n",
      "New position: 2\n"
     ]
    }
   ],
   "source": [
    "monster_0 = {'x_pos' : 0, 'y_pos' : 25, 'speed' : 'medium'}\n",
    "\n",
    "print(f\"Originam X position: {monster_0['x_pos']}\")\n",
    "\n",
    "if monster_0['speed'] == 'slow':\n",
    "    x_increment = 1   # 좌우 이동속도\n",
    "elif monster_0['speed'] == 'medium':\n",
    "    x_increment = 2\n",
    "else:\n",
    "    x_increment = 3\n",
    "    \n",
    "monster_0['x_pos'] = monster_0['x_pos'] + x_increment\n",
    "print(f\"New position: {monster_0['x_pos']}\")"
   ]
  },
  {
   "cell_type": "markdown",
   "id": "7f29a8ca",
   "metadata": {},
   "source": [
    "## 비슷한 객체로 만든 딕셔너리\n",
    "- 이전 예제에서는 monster_0라는 하나의 객체에 대한 정보를 딕셔너리에 담아 사용했다. 딕셔너리라는 여러 객체에 공통인 정보를 저장할 수도 있다. 사람들이 선호하는 프로그래밍 언어를 질문하고 저장할 때 다음과 같이 딕셔너리를 사용할 수 있다."
   ]
  },
  {
   "cell_type": "code",
   "execution_count": 38,
   "id": "d36d1f8f",
   "metadata": {},
   "outputs": [],
   "source": [
    "favorite_languages = {\n",
    "    '미영' : 'python',\n",
    "    '철민' : 'c',\n",
    "    '경호' : 'java',\n",
    "    '희영' : 'python'\n",
    "}"
   ]
  },
  {
   "cell_type": "markdown",
   "id": "3293c4c8",
   "metadata": {},
   "source": [
    "- 다음과 같이 딕셔너리명 다음 대괄호에 사람이름(key)을 쓰면 그 사람이 선호하는 프로그래밍 언어를 쉽게 찾을 수 있다."
   ]
  },
  {
   "cell_type": "code",
   "execution_count": 39,
   "id": "f1c66fe8",
   "metadata": {},
   "outputs": [
    {
     "name": "stdout",
     "output_type": "stream",
     "text": [
      "경호가 선호하는 언어는 java입니다.\n"
     ]
    }
   ],
   "source": [
    "favorite_languages = {\n",
    "    '미영' : 'python',\n",
    "    '철민' : 'c',\n",
    "    '경호' : 'java',\n",
    "    '희영' : 'python'\n",
    "}\n",
    "\n",
    "language = favorite_languages['경호']\n",
    "print(f\"경호가 선호하는 언어는 {language}입니다.\")"
   ]
  },
  {
   "cell_type": "markdown",
   "id": "a041a6b2",
   "metadata": {},
   "source": [
    "## get() 메소드\n",
    "- 딕셔너리에서 키를 이용해서 값을 얻어올 때 해당 키가 존재하지 않는 다면 에러가 발생한다.  \n",
    "다음 예제는 점수('point')를 키로 등록하지 않은 상태에서 점수 키를 이용해 딕셔너리의 요소에 접근했을 때 발생하는 에러이다."
   ]
  },
  {
   "cell_type": "code",
   "execution_count": 40,
   "id": "df39753c",
   "metadata": {},
   "outputs": [
    {
     "ename": "KeyError",
     "evalue": "'points'",
     "output_type": "error",
     "traceback": [
      "\u001b[1;31m---------------------------------------------------------------------------\u001b[0m",
      "\u001b[1;31mKeyError\u001b[0m                                  Traceback (most recent call last)",
      "Cell \u001b[1;32mIn[40], line 2\u001b[0m\n\u001b[0;32m      1\u001b[0m monster_0 \u001b[38;5;241m=\u001b[39m {\u001b[38;5;124m'\u001b[39m\u001b[38;5;124mspecies\u001b[39m\u001b[38;5;124m'\u001b[39m:\u001b[38;5;124m'\u001b[39m\u001b[38;5;124mogre\u001b[39m\u001b[38;5;124m'\u001b[39m, \u001b[38;5;124m'\u001b[39m\u001b[38;5;124mspeed\u001b[39m\u001b[38;5;124m'\u001b[39m:\u001b[38;5;124m'\u001b[39m\u001b[38;5;124mmedium\u001b[39m\u001b[38;5;124m'\u001b[39m}\n\u001b[1;32m----> 2\u001b[0m \u001b[38;5;28mprint\u001b[39m(\u001b[43mmonster_0\u001b[49m\u001b[43m[\u001b[49m\u001b[38;5;124;43m'\u001b[39;49m\u001b[38;5;124;43mpoints\u001b[39;49m\u001b[38;5;124;43m'\u001b[39;49m\u001b[43m]\u001b[49m)\n",
      "\u001b[1;31mKeyError\u001b[0m: 'points'"
     ]
    }
   ],
   "source": [
    "monster_0 = {'species':'ogre', 'speed':'medium'}\n",
    "print(monster_0['points'])"
   ]
  },
  {
   "cell_type": "markdown",
   "id": "823c8c30",
   "metadata": {},
   "source": [
    "- get() 메소드를 이용하면 키가 존재하지 않는 경우에도 디폴트 값을 설정하여 에러를 처리할 수 있다. get() 메소드의 첫 번째 매개변수는 키이고, 두 번째 매개변수는 키가 존재하지 않는 경우 반환할 값을 지정한다."
   ]
  },
  {
   "cell_type": "code",
   "execution_count": 41,
   "id": "814f3848",
   "metadata": {},
   "outputs": [
    {
     "name": "stdout",
     "output_type": "stream",
     "text": [
      "No point value assinged\n"
     ]
    }
   ],
   "source": [
    "monster_0 = {'species':'oger', 'speed':'medium'}\n",
    "\n",
    "point_value = monster_0.get('points', 'No point value assinged')\n",
    "\n",
    "print(point_value)"
   ]
  },
  {
   "cell_type": "markdown",
   "id": "67c568be",
   "metadata": {},
   "source": [
    "### 연습문제\n",
    "1. 딕셔너리를 사용하여 좋아하는 연예인의 이름, 나이, 직업을 저장하고 key를 이용하여 저장된 값을 출력하세요.  \n",
    "단, 키 값은 'name', 'age', 'job'으로 사용됩니다."
   ]
  },
  {
   "cell_type": "code",
   "execution_count": 44,
   "id": "a007ff4f",
   "metadata": {},
   "outputs": [
    {
     "name": "stdout",
     "output_type": "stream",
     "text": [
      "가장 좋아하는 연예인은 유재석이며, 나이는 52살, 직업은 Comedian입니다.\n"
     ]
    }
   ],
   "source": [
    "celevrity = {\n",
    "    'name':'유재석',\n",
    "    'age':52,\n",
    "    'job':'Comedian'}\n",
    "\n",
    "name = celevrity['name']\n",
    "age = celevrity['age']\n",
    "job = celevrity['job']\n",
    "\n",
    "print(f\"가장 좋아하는 연예인은 {name}이며, 나이는 {age}살, 직업은 {job}입니다.\")"
   ]
  },
  {
   "cell_type": "markdown",
   "id": "0d961ad0",
   "metadata": {},
   "source": [
    "## 딕셔너릴 순회(traverse)\n",
    "- 딕셔너리는 많은 양의 데이터를 담을 수 있고 루프를 이용해 순회할 수도 있다. 딕셔너리의 순회는 키-값 쌍을 순회, 키를 순회, 값을 순회하는 방법으로 나뉜다."
   ]
  },
  {
   "cell_type": "markdown",
   "id": "be08a043",
   "metadata": {},
   "source": [
    "## 키-값 쌍을 순회\n",
    "- 다음과 같이 학생 정보를 담고 있는 딕셔너리에 대해 for문을 사용하여 키-값 쌍을 순회할 수 있다. items() 메소드는 키-값 쌍을 리스트 형으로 반환한다. 반환받은 값을 언패킹(unpacking)하여 for문의 지역변수 key, value에 각각 저장하여 출력하고 있다."
   ]
  },
  {
   "cell_type": "code",
   "execution_count": 45,
   "id": "5288f5e3",
   "metadata": {},
   "outputs": [
    {
     "name": "stdout",
     "output_type": "stream",
     "text": [
      "dict_items([('id', '231234'), ('department', 'computer science'), ('grade', '3')])\n"
     ]
    }
   ],
   "source": [
    "# 예제\n",
    "student_0 = {\n",
    "    'id' : '231234',\n",
    "    'department' : 'computer science',\n",
    "    'grade' : '3'\n",
    "}\n",
    "\n",
    "print(student_0.items())"
   ]
  },
  {
   "cell_type": "code",
   "execution_count": 46,
   "id": "c7d33c06",
   "metadata": {},
   "outputs": [
    {
     "name": "stdout",
     "output_type": "stream",
     "text": [
      "\n",
      "key : id\n",
      "\n",
      "value : 231234\n",
      "\n",
      "key : department\n",
      "\n",
      "value : computer science\n",
      "\n",
      "key : grade\n",
      "\n",
      "value : 3\n"
     ]
    }
   ],
   "source": [
    "for key, value in student_0.items():   # 여기서 student_0.items()의 타입은 리스트타입\n",
    "    print(f\"\\nkey : {key}\")\n",
    "    print(f\"\\nvalue : {value}\")"
   ]
  },
  {
   "cell_type": "markdown",
   "id": "2545ab5b",
   "metadata": {},
   "source": [
    "- 여러 변수에 담긴 데이터들을 리스트와 같은 하나의 복합 데이터형으로 저장하는 것을 패킹(packing)이라고 하며, 다음과 같이 변수에 패킹이 가능하다. 패킹한 결과는 튜플형태로 변수에 저장된다."
   ]
  },
  {
   "cell_type": "code",
   "execution_count": 48,
   "id": "cb650b30",
   "metadata": {},
   "outputs": [
    {
     "name": "stdout",
     "output_type": "stream",
     "text": [
      "('banana', 'apple', 'orange')\n",
      "<class 'tuple'>\n"
     ]
    }
   ],
   "source": [
    "fruit_one = 'banana'\n",
    "fruit_two = 'apple'\n",
    "fruit_three = 'orange'\n",
    "\n",
    "fruits = fruit_one, fruit_two, fruit_three   # string type 변수 세 개를 fruits변수에 패킹\n",
    "\n",
    "print(fruits)   # 소괄호로 묶여있음 -> 튜플타입\n",
    "print(type(fruits))"
   ]
  },
  {
   "cell_type": "markdown",
   "id": "5911394b",
   "metadata": {},
   "source": [
    "- 복합 데이터형 데이터를 여러 개의 변수로 분리하여 저장하는 것을 언패킹(unpacking)이라고 한다."
   ]
  },
  {
   "cell_type": "code",
   "execution_count": 54,
   "id": "5fe29b9c",
   "metadata": {},
   "outputs": [
    {
     "name": "stdout",
     "output_type": "stream",
     "text": [
      "banana <class 'str'>\n",
      "apple <class 'str'>\n",
      "orange <class 'str'>\n"
     ]
    }
   ],
   "source": [
    "fruits = ['banana', 'apple', 'orange']\n",
    "\n",
    "fruit_one, fruit_two, fruit_three = fruits   # 언패킹\n",
    "\n",
    "print(fruit_one, type(fruit_one))\n",
    "print(fruit_two, type(fruit_two))\n",
    "print(fruit_three, type(fruit_three))"
   ]
  },
  {
   "cell_type": "markdown",
   "id": "21ff3e0d",
   "metadata": {},
   "source": [
    "- 키-값 쌍 전체를 순회하는 방법은 favorite_languages 예제에서처럼 **다양한 키에 비슷한 종류의 값을 저장할 때** 유용하게 사용된다. 다음 예에서 키는 항상 문자열형인 사람이름이고 값은 항상 문자열형인 선호하는 프로그래밍 언어이므로 for문의 각 반복마다 딕셔너리 각 요소를 접근하여 key는 임시변수 name에 value는 임시변수 language에 각각 언패킹하여 저장한 후 출력한다."
   ]
  },
  {
   "cell_type": "code",
   "execution_count": 57,
   "id": "42e53aa3",
   "metadata": {},
   "outputs": [
    {
     "name": "stdout",
     "output_type": "stream",
     "text": [
      "미영은 python언어를 선호합니다.\n",
      "철민은 c언어를 선호합니다.\n",
      "경호은 java언어를 선호합니다.\n",
      "희영은 python언어를 선호합니다.\n"
     ]
    }
   ],
   "source": [
    "favorite_languages = {\n",
    "    '미영' : 'python',\n",
    "    '철민' : 'c',\n",
    "    '경호' : 'java',\n",
    "    '희영' : 'python'\n",
    "}\n",
    "\n",
    "for name, language in favorite_languages.items():\n",
    "    print(f\"{name}은 {language}언어를 선호합니다.\")"
   ]
  },
  {
   "cell_type": "markdown",
   "id": "f8057c09",
   "metadata": {},
   "source": [
    "### keys() 메소드를 사용한 순회\n",
    "- keys() 메소드는 딕셔너리의 정보중 키(key)들만 가져온다. 키-값 쌍중 값을 사용하지 않는 경우의 반복에서 유용하게 쓰인다."
   ]
  },
  {
   "cell_type": "code",
   "execution_count": 58,
   "id": "de512700",
   "metadata": {},
   "outputs": [
    {
     "name": "stdout",
     "output_type": "stream",
     "text": [
      "미영\n",
      "철민\n",
      "경호\n",
      "희영\n"
     ]
    }
   ],
   "source": [
    "favorite_languages = {\n",
    "    '미영' : 'python',\n",
    "    '철민' : 'c',\n",
    "    '경호' : 'java',\n",
    "    '희영' : 'python'\n",
    "}\n",
    "\n",
    "for name in favorite_languages.keys():\n",
    "    print(name)"
   ]
  },
  {
   "cell_type": "code",
   "execution_count": 59,
   "id": "2aa60e7c",
   "metadata": {},
   "outputs": [
    {
     "name": "stdout",
     "output_type": "stream",
     "text": [
      "dict_keys(['미영', '철민', '경호', '희영'])\n"
     ]
    }
   ],
   "source": [
    "print(favorite_languages.keys())"
   ]
  },
  {
   "cell_type": "markdown",
   "id": "5cb5074e",
   "metadata": {},
   "source": [
    "- 딕셔너리 순회의 기본 동작은 키를 순회하는 것이므로 다음과 같이 for문을 작성해도 키를 순회하여 가져올 수 있다."
   ]
  },
  {
   "cell_type": "code",
   "execution_count": 61,
   "id": "e16b168f",
   "metadata": {},
   "outputs": [
    {
     "name": "stdout",
     "output_type": "stream",
     "text": [
      "미영\n",
      "철민\n",
      "경호\n",
      "희영\n"
     ]
    }
   ],
   "source": [
    "favorite_languages = {\n",
    "    '미영' : 'python',\n",
    "    '철민' : 'c',\n",
    "    '경호' : 'java',\n",
    "    '희영' : 'python'\n",
    "}\n",
    "\n",
    "for name in favorite_languages:\n",
    "    print(name)"
   ]
  },
  {
   "cell_type": "markdown",
   "id": "fcdeb0df",
   "metadata": {},
   "source": [
    "- keys() 메소드를 사용한 예"
   ]
  },
  {
   "cell_type": "code",
   "execution_count": 62,
   "id": "d3e8afb4",
   "metadata": {},
   "outputs": [
    {
     "name": "stdout",
     "output_type": "stream",
     "text": [
      "hi 미영\n",
      "hi 철민\n",
      "\t철민이(는) C언어 전문가!\n",
      "hi 경호\n",
      "hi 희영\n",
      "\t희영이(는) Python언어 전문가!\n"
     ]
    }
   ],
   "source": [
    "favorite_languages = {\n",
    "    '미영' : 'python',\n",
    "    '철민' : 'c',\n",
    "    '경호' : 'java',\n",
    "    '희영' : 'python'\n",
    "}\n",
    "\n",
    "friends = ['철민', '희영']\n",
    "\n",
    "for name in favorite_languages.keys():\n",
    "    print(\"hi\", name)\n",
    "    \n",
    "    if name in friends:\n",
    "        language = favorite_languages[name].title()   # favorite_Languages['미영'].title()\n",
    "        print(f\"\\t{name}이(는) {language}언어 전문가!\")"
   ]
  },
  {
   "cell_type": "markdown",
   "id": "15dad514",
   "metadata": {},
   "source": [
    "### 딕셔너리의 키(key)에 대해 순서대로 순회하기\n",
    "- 파이썬에서는 딕셔너리를 순회할 때 각 키-값이 정의된 순서를 지킨다. 순회 순서를 바꾸는 방법은 내장함수인 sorted() 함수를 사용하는 것이다.\n",
    "- 다음 예제에서는 sorted() 함수를 사용하여 키를 오름차순으로 정렬한 후 순서대로 순회하여 출력하고 있다."
   ]
  },
  {
   "cell_type": "code",
   "execution_count": 73,
   "id": "bfbbb612",
   "metadata": {
    "scrolled": true
   },
   "outputs": [
    {
     "name": "stdout",
     "output_type": "stream",
     "text": [
      "미영\n",
      "철민\n",
      "경호\n",
      "희영\n",
      "경호, 설문에 참여해줘서 고마워.\n",
      "미영, 설문에 참여해줘서 고마워.\n",
      "철민, 설문에 참여해줘서 고마워.\n",
      "희영, 설문에 참여해줘서 고마워.\n"
     ]
    }
   ],
   "source": [
    "favorite_languages = {\n",
    "    '미영' : 'python',\n",
    "    '철민' : 'c',\n",
    "    '경호' : 'java',\n",
    "    '희영' : 'python'\n",
    "}\n",
    "\n",
    "for name in favorite_languages.keys():\n",
    "    print(name)\n",
    "\n",
    "# 키(key)인 이름에 대해 오름차순으로 출력\n",
    "# sorted(~~~)\n",
    "for name in sorted(favorite_languages.keys()):\n",
    "    print(f\"{name}, 설문에 참여해줘서 고마워.\")"
   ]
  },
  {
   "cell_type": "markdown",
   "id": "6daa78cb",
   "metadata": {},
   "source": [
    "- 딕셔너리의 키에 대해 내림차순으로 정렬한 후 순서대로 순회하기 위해서는 sorted()함수의 옵션을 revers = True로 설정하여 정렬한 후 for문으로 순서대로 순회하면 된다."
   ]
  },
  {
   "cell_type": "code",
   "execution_count": 72,
   "id": "608b6915",
   "metadata": {},
   "outputs": [
    {
     "name": "stdout",
     "output_type": "stream",
     "text": [
      "미영\n",
      "철민\n",
      "경호\n",
      "희영\n",
      "희영, 설문에 참여해줘서 고마워.\n",
      "철민, 설문에 참여해줘서 고마워.\n",
      "미영, 설문에 참여해줘서 고마워.\n",
      "경호, 설문에 참여해줘서 고마워.\n"
     ]
    }
   ],
   "source": [
    "favorite_languages = {\n",
    "    '미영' : 'python',\n",
    "    '철민' : 'c',\n",
    "    '경호' : 'java',\n",
    "    '희영' : 'python'\n",
    "}\n",
    "\n",
    "for name in favorite_languages.keys():\n",
    "    print(name)\n",
    "\n",
    "# 키(key)인 이름에 대해 내림차순으로 출력\n",
    "# sorted(~~~, reverse = True)\n",
    "for name in sorted(favorite_languages.keys(), reverse = True):\n",
    "    print(f\"{name}, 설문에 참여해줘서 고마워.\")"
   ]
  },
  {
   "cell_type": "markdown",
   "id": "25be28bd",
   "metadata": {},
   "source": [
    "### 딕셔너리의 모든 값(value)에 대해 반복\n",
    "- 딕셔너리에 담긴 값만 필요하다면 values() 메소드를 사용하여 값이 담긴 리스트를 가져올 수 있다."
   ]
  },
  {
   "cell_type": "code",
   "execution_count": 79,
   "id": "a6200fbb",
   "metadata": {},
   "outputs": [
    {
     "name": "stdout",
     "output_type": "stream",
     "text": [
      "각자 선호하는 언어: \n",
      "기본\n",
      "python\n",
      "c\n",
      "java\n",
      "python\n",
      "\n",
      "\n",
      "오름차순\n",
      "c\n",
      "java\n",
      "python\n",
      "python\n",
      "\n",
      "\n",
      "내림차순\n",
      "python\n",
      "python\n",
      "java\n",
      "c\n"
     ]
    }
   ],
   "source": [
    "favorite_languages = {\n",
    "    '미영' : 'python',\n",
    "    '철민' : 'c',\n",
    "    '경호' : 'java',\n",
    "    '희영' : 'python'\n",
    "}\n",
    "\n",
    "print(\"각자 선호하는 언어: \")\n",
    "\n",
    "# 기본\n",
    "print(\"기본\")\n",
    "for language in favorite_languages.values():\n",
    "    print(language)\n",
    "print(\"\\n\")\n",
    "\n",
    "# 오름차순\n",
    "print(\"오름차순\")\n",
    "for language in sorted(favorite_languages.values()):\n",
    "    print(language)\n",
    "print(\"\\n\")\n",
    "\n",
    "# 내림차순\n",
    "print(\"내림차순\")\n",
    "for language in sorted(favorite_languages.values(), reverse = True):\n",
    "    print(language)"
   ]
  },
  {
   "cell_type": "markdown",
   "id": "f2ff74d8",
   "metadata": {},
   "source": [
    "### 중복을 허용하지 않는 자료형 set()함수\n",
    "- 딕셔너리는 값 전체에 대해 중복을 허용한다. 단, 키는 중복할 수 없다. 키-값중 값만 선택해서 그 중 중복되는 부분을 제거하기 위해서는 다음과 같이 set()함수를 사용할 수 있다. 셋(set)은 중복을 허용하지 않는 자료형이다."
   ]
  },
  {
   "cell_type": "code",
   "execution_count": 81,
   "id": "99506cb4",
   "metadata": {},
   "outputs": [
    {
     "name": "stdout",
     "output_type": "stream",
     "text": [
      "선택도니 언어들: \n",
      "Java\n",
      "Python\n",
      "C\n"
     ]
    }
   ],
   "source": [
    "favorite_languages = {\n",
    "    '미영' : 'python',\n",
    "    '철민' : 'c',\n",
    "    '경호' : 'java',\n",
    "    '희영' : 'python'\n",
    "}\n",
    "\n",
    "print(\"선택도니 언어들: \")\n",
    "\n",
    "for language in set(favorite_languages.values()):\n",
    "    print(language.title())"
   ]
  },
  {
   "cell_type": "markdown",
   "id": "0dee6918",
   "metadata": {},
   "source": [
    "### 연습문제\n",
    "1. 딕셔너리를 이용하여 각 나라의 유명한 강과 나라이름을 저장하라. (3개국)  \n",
    "ex) '한강':'대한민국'과 같이 저장  \n",
    "for문을 사용하여 딕셔너리의 전체 강 이름을 출력하고, for문을 사용하여 딕셔너리의 전체 나라 이름들도 출력하라."
   ]
  },
  {
   "cell_type": "code",
   "execution_count": 89,
   "id": "a15158c8",
   "metadata": {},
   "outputs": [
    {
     "name": "stdout",
     "output_type": "stream",
     "text": [
      "한강\n",
      "라인강\n",
      "나일강\n",
      "대한민국\n",
      "독일\n",
      "이집트\n"
     ]
    }
   ],
   "source": [
    "river_of_Countries = {\n",
    "    '한강' : '대한민국',\n",
    "    '라인강' : '독일',\n",
    "    '나일강' : '이집트'\n",
    "}\n",
    "\n",
    "for river in river_of_Countries.keys():\n",
    "    print(f\"{river}\")\n",
    "    \n",
    "for country in river_of_Countries.values():\n",
    "    print(f\"{country}\")\n"
   ]
  }
 ],
 "metadata": {
  "kernelspec": {
   "display_name": "Python 3 (ipykernel)",
   "language": "python",
   "name": "python3"
  },
  "language_info": {
   "codemirror_mode": {
    "name": "ipython",
    "version": 3
   },
   "file_extension": ".py",
   "mimetype": "text/x-python",
   "name": "python",
   "nbconvert_exporter": "python",
   "pygments_lexer": "ipython3",
   "version": "3.10.9"
  }
 },
 "nbformat": 4,
 "nbformat_minor": 5
}
