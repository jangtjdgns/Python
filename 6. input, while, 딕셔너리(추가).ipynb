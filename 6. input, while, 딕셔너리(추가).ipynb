{
 "cells": [
  {
   "cell_type": "markdown",
   "id": "c3c2e61a",
   "metadata": {},
   "source": [
    "## 딕셔너리 중첩(nesting)\n",
    "- 때때로 딕셔너리 여러개를 리스트 안에, 또는 리스트를 딕셔너리 값으로 저장해야 할 때가 있다. 이런 형태를 중첩 <sup>Nesting</sup> 이라고 부른다. 딕셔너리를 리스트안에, 리스트를 딕셔너리 안에, 딕셔너리를 딕셔너리 안에 중첩 시킬 수 있다."
   ]
  },
  {
   "cell_type": "markdown",
   "id": "76ecad30",
   "metadata": {},
   "source": [
    "### 여러개의 딕셔너리들이 리스트에 포함된 경우\n",
    "- 예를 들면 게임상에서 화면에 외계인이 여려 명 생성되어야 한다명 어떻게 처리할까? 한가지 간단한 방법은 외계인에 대한 정보는 딕셔너리에 저장하고 각각의 외계인을 나타내는 딕셔너리 데이터를 리스트에 순서대로 담아 처리하는 방법이 있을 것이다.\n",
    "\n",
    "- 다음 예는 각각의 외계인 정보를 딕셔너리에 저장한 후 리스트 aliens를 생성하여 저장한다."
   ]
  },
  {
   "cell_type": "code",
   "execution_count": 4,
   "id": "2708c696",
   "metadata": {},
   "outputs": [
    {
     "name": "stdout",
     "output_type": "stream",
     "text": [
      "{'color': 'green', 'points': 5}\n",
      "{'color': 'yellow', 'points': 10}\n",
      "{'color': 'red', 'points': 15}\n"
     ]
    }
   ],
   "source": [
    "alien_0 = {'color' : 'green', 'points' : 5}\n",
    "alien_1 = {'color' : 'yellow', 'points' : 10}\n",
    "alien_2 = {'color' : 'red', 'points' : 15}\n",
    "\n",
    "aliens = [alien_0, alien_1, alien_2]\n",
    "\n",
    "for alien in aliens:\n",
    "    print(alien)"
   ]
  },
  {
   "cell_type": "markdown",
   "id": "b15cb84c",
   "metadata": {},
   "source": [
    "### 외계인 30인을 생성하는 예제\n",
    "- 다음 예제는 빈 리스트를 생성한 후 range함수와 리스트의 append()메서드를 사용해 30인의 외계인을 생성하는 예이다. 두번째 for문에서는 리스트의 슬라이싱을 이용해서 앞에서부터 5명의 외계인에 대한 정보를 출력한다."
   ]
  },
  {
   "cell_type": "code",
   "execution_count": 12,
   "id": "bf816196",
   "metadata": {},
   "outputs": [
    {
     "name": "stdout",
     "output_type": "stream",
     "text": [
      "{'color': 'green', 'point': 5, 'speed': 'slow'}\n",
      "...\n",
      "{'color': 'green', 'point': 5, 'speed': 'slow'}\n",
      "...\n",
      "{'color': 'green', 'point': 5, 'speed': 'slow'}\n",
      "...\n",
      "{'color': 'green', 'point': 5, 'speed': 'slow'}\n",
      "...\n",
      "{'color': 'green', 'point': 5, 'speed': 'slow'}\n",
      "...\n"
     ]
    }
   ],
   "source": [
    "aliens = []\n",
    "\n",
    "for alien_number in range(30):\n",
    "    new_alien = {'color' : 'green', 'point' : 5, 'speed' : 'slow'}\n",
    "    aliens.append(new_alien)\n",
    "\n",
    "for alien in aliens[:5]:   # 5개만 출력\n",
    "    print(alien)\n",
    "    print(\"...\")"
   ]
  },
  {
   "cell_type": "markdown",
   "id": "bee87b52",
   "metadata": {},
   "source": [
    "- 만약에 게임 진행 중 외계인의 일부가 가지는 속성이 변경되어야 하는 경우에는 다음과 같이 for문 if문을 이용해서 속성을 변경할 수 있다. 이 예제에서는 외계인 리스트의 앞에서부터 세 명의 속성을 변경하고 있다."
   ]
  },
  {
   "cell_type": "code",
   "execution_count": 19,
   "id": "2aa2030a",
   "metadata": {},
   "outputs": [
    {
     "name": "stdout",
     "output_type": "stream",
     "text": [
      "{'color': 'yellow', 'points': 10, 'speed': 'medium'}\n",
      "...\n",
      "{'color': 'yellow', 'points': 10, 'speed': 'medium'}\n",
      "...\n",
      "{'color': 'yellow', 'points': 10, 'speed': 'medium'}\n",
      "...\n",
      "{'color': 'green', 'points': 5, 'speed': 'slow'}\n",
      "...\n",
      "{'color': 'green', 'points': 5, 'speed': 'slow'}\n",
      "...\n"
     ]
    }
   ],
   "source": [
    "aliens = []\n",
    "\n",
    "for alien_number in range(10):\n",
    "    new_alien = {'color' : 'green', 'points' : 5, 'speed' : 'slow'}\n",
    "    aliens.append(new_alien)\n",
    "    \n",
    "for alien in aliens[:3]:\n",
    "    if alien['color'] == 'green':\n",
    "        alien['color'] = 'yellow'\n",
    "        alien['speed'] = 'medium'\n",
    "        alien['points'] = 10\n",
    "        \n",
    "for alien in aliens[:5]:\n",
    "    print(alien)\n",
    "    print(\"...\")"
   ]
  },
  {
   "cell_type": "markdown",
   "id": "03712f47",
   "metadata": {},
   "source": [
    "### 딕셔너리 안에 리스트가 포함되는 경우\n",
    "- 딕셔너리 안에 리스트를 포함시킬 수 있다. 다음 예를 보면 피자 주문시 토핑의 종류는 여러가지가 들어가기도 하므로 리스트에 담아 딕셔너리의 요소로 추가하였다. 리스트에 담긴 토핑 정보가 필요한 경우 딕셔너리명 다음의 대괄호 안에 키(key)를 적어 접근할 수 있다."
   ]
  },
  {
   "cell_type": "code",
   "execution_count": 30,
   "id": "4f196b93",
   "metadata": {},
   "outputs": [
    {
     "name": "stdout",
     "output_type": "stream",
     "text": [
      "당신은 thick 두께의 피자를 다음과 같은 토핑을 추가하여 주문하였습니다.\n",
      "주문한 토핑\n",
      "\t버섯\n",
      "\t추가 치즈\n"
     ]
    }
   ],
   "source": [
    "pizza = {\n",
    "    'crust' : 'thick',   # crust : 빵껍질\n",
    "    'toppings' : ['버섯', '추가 치즈']\n",
    "}\n",
    "\n",
    "print(f\"당신은 {pizza['crust']} 두께의 피자를 다음과 같은 토핑을 추가하여 주문하였습니다.\")\n",
    "print(\"주문한 토핑\")\n",
    "\n",
    "for topping in pizza['toppings']:\n",
    "    print(\"\\t\" + topping)"
   ]
  },
  {
   "cell_type": "markdown",
   "id": "c34311f8",
   "metadata": {},
   "source": [
    "- 딕셔너리의 특징 키에 하나 이상의 값을 저장하고자 할 때는 딕셔너리 안에 리스트를 중첩하여 사용하면 된다.\n",
    "- 다음은 친구들이 선호하는 프로그래밍 언어를 저장하는 딕셔너리이다. 개인마다 선호하는 프로그래밍 언어가 여러개인 경우도 있을 수 있다. 이런 경우 딕셔너리의 값으로 리스트를 중첩시켜 사용할 수 있다."
   ]
  },
  {
   "cell_type": "code",
   "execution_count": 37,
   "id": "c00eab9f",
   "metadata": {},
   "outputs": [
    {
     "name": "stdout",
     "output_type": "stream",
     "text": [
      "\n",
      "미영(이)가 선호하는 프로그래밍 언어 :\n",
      "\tpython\n",
      "\tjava\n",
      "\n",
      "철민(이)가 선호하는 프로그래밍 언어 :\n",
      "\tc\n",
      "\n",
      "경호(이)가 선호하는 프로그래밍 언어 :\n",
      "\tjava\n",
      "\tc\n",
      "\n",
      "희영(이)가 선호하는 프로그래밍 언어 :\n",
      "\tpython\n",
      "\tc++\n"
     ]
    }
   ],
   "source": [
    "favorite_languages = {\n",
    "    '미영' : ['python', 'java'],\n",
    "    '철민' : ['c'],\n",
    "    '경호' : ['java', 'c'],\n",
    "    '희영' : ['python', 'c++']\n",
    "}\n",
    "\n",
    "for name, languages in favorite_languages.items():   # items() 메서드, 키와 값 분리\n",
    "    print(f\"\\n{name}(이)가 선호하는 프로그래밍 언어 :\")\n",
    "    for language in languages:\n",
    "        print(f\"\\t{language}\")"
   ]
  },
  {
   "cell_type": "markdown",
   "id": "e31af760",
   "metadata": {},
   "source": [
    "### 딕셔너리 안에 딕셔너리가 포함되는 경우\n",
    "- 딕셔너리 안에 다른 딕셔너리를 중첩시키면 코드가 복잡해질 수 있다.\n",
    "- 다음은 사용자 이름을 순회하면서 사용자 이름과 연결된 정보를 접근하여 출력하는 예이다."
   ]
  },
  {
   "cell_type": "code",
   "execution_count": 48,
   "id": "af317ade",
   "metadata": {},
   "outputs": [
    {
     "name": "stdout",
     "output_type": "stream",
     "text": [
      "\n",
      "Username: aeinstein\n",
      "\t Full name : Albert Einstein\n",
      "\t Location : Princeton\n",
      "\n",
      "Username: mcurie\n",
      "\t Full name : Marie Curie\n",
      "\t Location : Paris\n"
     ]
    }
   ],
   "source": [
    "users = {\n",
    "    'aeinstein' : {\n",
    "        'first' : 'albert',\n",
    "        'last' : 'einstein',\n",
    "        'location' : 'princeton'\n",
    "    },\n",
    "    'mcurie' : {\n",
    "        'first' : 'marie',\n",
    "        'last' : 'curie',\n",
    "        'location': 'paris'\n",
    "    }\n",
    "}\n",
    "\n",
    "for username, user_info in users.items():\n",
    "    print(f\"\\nUsername: {username}\")\n",
    "    full_name = f\"{user_info['first']} {user_info['last']}\"\n",
    "    location = user_info['location']\n",
    "    \n",
    "    print(f\"\\t Full name : {full_name.title()}\")\n",
    "    print(f\"\\t Location : {location.title()}\")"
   ]
  },
  {
   "cell_type": "markdown",
   "id": "1d13d25a",
   "metadata": {},
   "source": [
    "---"
   ]
  },
  {
   "cell_type": "markdown",
   "id": "4d9dafd4",
   "metadata": {},
   "source": [
    "# 6. 사용자의 입력과 while 루프\n",
    "- 대부분의 프로그램 최종 사용자의 문제를 해결하기 위해 만들어진다. 사용자의 문제를 해결하기 위해서는 사용자로부터 정보를 넘겨받아야 한다. 예를 들어 자신이 설문에 응할 수 있는 나이인지 알고 싶다면 프로그램은 사용자의 나이를 알아야 한다. 따라서 프로그램은 사용자의 나이를 **입력<sup>Input</sup>** 받아야 한다. 파이썬에서는 **input()** 함수를 사용하여 사용자로부터 정보를 입력받을 수 있다."
   ]
  },
  {
   "cell_type": "markdown",
   "id": "c5ebec01",
   "metadata": {},
   "source": [
    "## input() 함수 동작법\n",
    "- input() 함수는 사용자 입력이 들어올 때까지 대기하다가 사용자 입력을 받으면 입력받은 정보를 변수에 할당하는 식으로 사용하게 된다.\n",
    "\n",
    "- 다음 예제는 사용자로부터 텍스트를 입력받고 변수에 저장한뒤 print문으로 출력하는 예이다."
   ]
  },
  {
   "cell_type": "code",
   "execution_count": 1,
   "id": "9c7a906f",
   "metadata": {},
   "outputs": [
    {
     "name": "stdout",
     "output_type": "stream",
     "text": [
      "문장을 입력하면 출력으로 돌려줍니다. : 안녕하세요\n",
      "안녕하세요\n"
     ]
    }
   ],
   "source": [
    "message = input(\"문장을 입력하면 출력으로 돌려줍니다. : \")\n",
    "print(message)"
   ]
  },
  {
   "cell_type": "markdown",
   "id": "ecd79d8a",
   "metadata": {},
   "source": [
    "- input() 함수는 매개변수<sup>Parameter</sup>를 하나만 받는다. 사용자에게 해야할 행동을 설명하기 위한 프롬프트(Prompt)가 유일한 매개변수가 된다. 위 예제에서는 \"문장을 입력하면 출력으로 돌려줍니다.\" 라는 문장이 프롬프트에 해당하며 프로그램은 사용자 입력을 기다리다가 입력을 마치면 실행이 재개된다. input() 함수는 사용자로부터 입력받은 정보를 반환하는데 이를 변수 message에 대입하여 출력하고 있다.\n",
    "* input() 입력받을때 무조건 str타입  \n",
    "-> 다른 타입으로 변환 시켜야함"
   ]
  },
  {
   "cell_type": "markdown",
   "id": "cfcee521",
   "metadata": {},
   "source": [
    "## 명확한 프롬프트 작성\n",
    "- input() 함수를 사용할 때는 명확한 프롬프트를 써서 사용자로부터 당신이 원하는 정보를 입력받을 수 있도록 해야한다."
   ]
  },
  {
   "cell_type": "code",
   "execution_count": 3,
   "id": "3c29b1db",
   "metadata": {},
   "outputs": [
    {
     "name": "stdout",
     "output_type": "stream",
     "text": [
      "이름을 입력하세요. : 홍길동\n",
      "안녕하세요. 홍길동님\n"
     ]
    }
   ],
   "source": [
    "name = input(\"이름을 입력하세요. : \")\n",
    "print(f\"안녕하세요. {name}님\")"
   ]
  },
  {
   "cell_type": "markdown",
   "id": "a27ed6bb",
   "metadata": {},
   "source": [
    "- 때때로 여러 줄의 프롬프트를 작성해야 하는 경우도 있다. 이럴 때는 프롬프트를 변수에 할당하고 그 변수를 input() 함수의 매개변수로 넘겨서 여러 줄의 안내 문구를 출력할 수도 있다."
   ]
  },
  {
   "cell_type": "code",
   "execution_count": 6,
   "id": "6dfb4ab1",
   "metadata": {},
   "outputs": [
    {
     "name": "stdout",
     "output_type": "stream",
     "text": [
      "당신이 누구인지 입력해주시면 인사 문구를 보내드립니다.\n",
      "이름을 입력하세요. : 홍길동\n",
      "\n",
      "안녕하세요. 홍길동님 즐거운 하루 보내세요.\n"
     ]
    }
   ],
   "source": [
    "prompt = \"당신이 누구인지 입력해주시면 인사 문구를 보내드립니다.\"\n",
    "prompt += \"\\n이름을 입력하세요. : \"   # 복합대입연산자 += : prompt = prompt + \"\\n이름을 입력하세요.\"\n",
    "name = input(prompt)\n",
    "print(f\"\\n안녕하세요. {name}님 즐거운 하루 보내세요.\")"
   ]
  },
  {
   "cell_type": "markdown",
   "id": "43b422b8",
   "metadata": {},
   "source": [
    "- 다음과 같은 다양한 복합대입연산자를 사용할 수 있다."
   ]
  },
  {
   "cell_type": "code",
   "execution_count": 11,
   "id": "882dca51",
   "metadata": {},
   "outputs": [
    {
     "name": "stdout",
     "output_type": "stream",
     "text": [
      "operand_one = 15 \n",
      "operand_two = 5\n"
     ]
    }
   ],
   "source": [
    "operand_one = 10   # operand : 피연산자\n",
    "operand_two = 5\n",
    "\n",
    "operand_one += operand_two   # operand_one = operand_one + operand_two\n",
    "print(f\"operand_one = {operand_one} \\noperand_two = {operand_two}\")"
   ]
  },
  {
   "cell_type": "code",
   "execution_count": 13,
   "id": "3dd288ae",
   "metadata": {},
   "outputs": [
    {
     "name": "stdout",
     "output_type": "stream",
     "text": [
      "operand_one = 0 \n",
      "operand_two = 5\n"
     ]
    }
   ],
   "source": [
    "# 나머지 연산\n",
    "operand_one = 10   # operand : 피연산자\n",
    "operand_two = 5\n",
    "\n",
    "operand_one %= operand_two   # operand_one = operand_one % operand_two\n",
    "print(f\"operand_one = {operand_one} \\noperand_two = {operand_two}\")"
   ]
  },
  {
   "cell_type": "code",
   "execution_count": 17,
   "id": "106cbb04",
   "metadata": {},
   "outputs": [
    {
     "name": "stdout",
     "output_type": "stream",
     "text": [
      "operand_one = 320 \n",
      "operand_two = 5\n"
     ]
    }
   ],
   "source": [
    "# 비트 연산\n",
    "operand_one = 10   # operand : 피연산자\n",
    "operand_two = 5\n",
    "\n",
    "# 00000110 << 5 : 11000000\n",
    "operand_one <<= operand_two   # operand_one = operand_one << operand_two\n",
    "print(f\"operand_one = {operand_one} \\noperand_two = {operand_two}\")"
   ]
  },
  {
   "cell_type": "markdown",
   "id": "9fd66404",
   "metadata": {},
   "source": [
    "- int() 함수를 사용하여 정수로 입력받기  \n",
    "  \n",
    "  파이썬은 input() 함수로 입력받은 데이터를 모두 문자열로 간주한다. (문자열로 반환해 준다.)  \n",
    "  입력받은 데이터를 정수타입으로 변경하기 위해서는 내장함수 int()를 사용하여 변환하면 된다."
   ]
  },
  {
   "cell_type": "code",
   "execution_count": 19,
   "id": "6f081934",
   "metadata": {},
   "outputs": [
    {
     "name": "stdout",
     "output_type": "stream",
     "text": [
      "나이 입력 : 15\n",
      "15\n",
      "<class 'int'>\n"
     ]
    }
   ],
   "source": [
    "age = input(\"나이 입력 : \")\n",
    "print(age)\n",
    "print(type(int(age)))"
   ]
  },
  {
   "cell_type": "code",
   "execution_count": 25,
   "id": "2b010242",
   "metadata": {},
   "outputs": [
    {
     "name": "stdout",
     "output_type": "stream",
     "text": [
      "나이를 입력하세요. : 15\n",
      "<class 'str'>\n",
      "<class 'int'>\n",
      "당신은 투표가 불가능한 나이입니다.\n"
     ]
    }
   ],
   "source": [
    "age = input(\"나이를 입력하세요. : \")\n",
    "print(type(age))\n",
    "age = int(age)   # 변수 age에 담겨있던 문자열 '15'를 내장함수 int()를 사용하여 정수 값 15로 변경하여 다시 age 변수에 저장\n",
    "print(type(age))\n",
    "\n",
    "if age > 18:   # age의 값 : '15'\n",
    "    print(\"당신은 투표 가능한 나이입니다.\")\n",
    "else:\n",
    "    print(\"당신은 투표가 불가능한 나이입니다.\")"
   ]
  },
  {
   "cell_type": "markdown",
   "id": "f8b14fcf",
   "metadata": {},
   "source": [
    "- 다음과 같이 int() 함수와 input() 함수를 한번에 사용하는 방법도 있다."
   ]
  },
  {
   "cell_type": "code",
   "execution_count": 28,
   "id": "9744d54b",
   "metadata": {},
   "outputs": [
    {
     "name": "stdout",
     "output_type": "stream",
     "text": [
      "키를 입력하세요 : 150\n",
      "\n",
      "당신은 놀이기구 탑승이 가능합니다.\n"
     ]
    }
   ],
   "source": [
    "height = int(input(\"키를 입력하세요 : \"))\n",
    "\n",
    "if height >= 145:\n",
    "    print(\"\\n당신은 놀이기구 탑승이 가능합니다.\")\n",
    "else:\n",
    "    print(\"\\n당신은 놀이기구 탑승이 불가능합니다.\")"
   ]
  },
  {
   "cell_type": "markdown",
   "id": "fa988578",
   "metadata": {},
   "source": [
    "### 나머지 연산자 (Moduio Operator)\n",
    "- 나머지 연산자는 첫 번째 피연산자(operand)를 두 번째 피연산자로 나눈 후의 나머지를 반환한다."
   ]
  },
  {
   "cell_type": "code",
   "execution_count": 30,
   "id": "f7a2abf7",
   "metadata": {},
   "outputs": [
    {
     "name": "stdout",
     "output_type": "stream",
     "text": [
      "1\n"
     ]
    }
   ],
   "source": [
    "print(10 % 3)   # 나머지 1"
   ]
  },
  {
   "cell_type": "code",
   "execution_count": 31,
   "id": "a9ca7d4d",
   "metadata": {},
   "outputs": [
    {
     "name": "stdout",
     "output_type": "stream",
     "text": [
      "3\n"
     ]
    }
   ],
   "source": [
    "print(7 % 4)   # 나머지 3"
   ]
  },
  {
   "cell_type": "code",
   "execution_count": 32,
   "id": "28160618",
   "metadata": {},
   "outputs": [
    {
     "name": "stdout",
     "output_type": "stream",
     "text": [
      "0\n"
     ]
    }
   ],
   "source": [
    "print(10 % 2)   # 나머지 0"
   ]
  },
  {
   "cell_type": "markdown",
   "id": "91758322",
   "metadata": {},
   "source": [
    "- 나머지 연산자를 사용하여 어떤 숫자가 짝수인지 홀수인지 판단할 수 있다."
   ]
  },
  {
   "cell_type": "code",
   "execution_count": 38,
   "id": "f75d84dd",
   "metadata": {},
   "outputs": [
    {
     "name": "stdout",
     "output_type": "stream",
     "text": [
      "숫자를 입력하세요. : 20\n",
      "20(은)는 짝수입니다.\n"
     ]
    }
   ],
   "source": [
    "number = int(input(\"숫자를 입력하세요. : \"))\n",
    "\n",
    "if number % 2 == 0:\n",
    "    print(f\"{number}(은)는 짝수입니다.\")\n",
    "else:\n",
    "    print(f\"{number}(은)는 홀수입니다.\")"
   ]
  },
  {
   "cell_type": "markdown",
   "id": "58c2a045",
   "metadata": {},
   "source": [
    "### 연습문제\n",
    "1. 어떤 식당에서 예약자에게 식사에 몇 명이 오는지 묻는 프로그램을 작성하세요. 입력받은 답변이 9명 이상이면 자리가 나올때까지 기다려야 한다는 메시지를 출력하세요. 그렇지 않다면 테이블이 준비되었다고 알려주세요."
   ]
  },
  {
   "cell_type": "code",
   "execution_count": 43,
   "id": "e0dff865",
   "metadata": {},
   "outputs": [
    {
     "name": "stdout",
     "output_type": "stream",
     "text": [
      "몇 명 예약하시나요? : 9\n",
      "\n",
      "9명 이상이시면, 자리가 나올때까지 기다려주세요.\n"
     ]
    }
   ],
   "source": [
    "party_size = int(input(\"몇 명 예약하시나요? : \"))\n",
    "\n",
    "if party_size >= 9:\n",
    "    print(f\"\\n{party_size}명 이상이시면, 자리가 나올때까지 기다려주세요.\")\n",
    "else:\n",
    "    print(f\"\\n{party_size}명 테이블이 준비되었습니다.\")"
   ]
  },
  {
   "cell_type": "markdown",
   "id": "609953f7",
   "metadata": {},
   "source": [
    "2. 사용자에게 숫자를 입력받고 그 숫자가 10의 배수인지 아닌지를 출력하는 프로그램을 작성하세요."
   ]
  },
  {
   "cell_type": "code",
   "execution_count": 45,
   "id": "ddc37c87",
   "metadata": {},
   "outputs": [
    {
     "name": "stdout",
     "output_type": "stream",
     "text": [
      "숫자를 입력하세요. : 210\n",
      "\n",
      "210은 10의 배수입니다.\n"
     ]
    }
   ],
   "source": [
    "multiple_of_ten = int(input(\"숫자를 입력하세요. : \"))\n",
    "\n",
    "if multiple_of_ten % 10 == 0:\n",
    "    print(f\"\\n{multiple_of_ten}은 10의 배수입니다.\")\n",
    "else:\n",
    "    print(f\"\\n{multiple_of_ten}(은)는 10의 배수가 아닙니다.\")"
   ]
  },
  {
   "cell_type": "markdown",
   "id": "eb6f6ff4",
   "metadata": {},
   "source": [
    "## while 문\n",
    "- for문은 반복가능한(iterable) 자료형에서 각 항목을 순회하며 코드 블록을 반복 수행하거나 지정한 범위만큼 코드 블록을 수행한다.  \n",
    "이에 비해서 while 문은 조건식이 참인 동안은 등려쓴 블록(영역)의 명령들을 계속 수행한다.  \n",
    "  \n",
    "- 다음은 while 문을 이용하여 숫자 1부터 10까지를 출력하는 예이다."
   ]
  },
  {
   "cell_type": "code",
   "execution_count": 1,
   "id": "22976d34",
   "metadata": {},
   "outputs": [
    {
     "name": "stdout",
     "output_type": "stream",
     "text": [
      "1 2 3 4 5 6 7 8 9 10 "
     ]
    }
   ],
   "source": [
    "current_number = 1\n",
    "\n",
    "while current_number <= 10:\n",
    "    print(current_number, end = ' ')\n",
    "    current_number += 1"
   ]
  },
  {
   "cell_type": "markdown",
   "id": "6b008088",
   "metadata": {},
   "source": [
    "### 종료값을 사용하여 반복하기\n",
    "- 종료값을 정의하여 사용자가 종료값을 입력하기 전까지는 프로그램을 계속 실행하게 만들수 있다."
   ]
  },
  {
   "cell_type": "code",
   "execution_count": 1,
   "id": "fce75ea0",
   "metadata": {},
   "outputs": [
    {
     "name": "stdout",
     "output_type": "stream",
     "text": [
      "\n",
      "문장을 입력하세요. : \n",
      "종료하려면 'quit'를 입력하세요.안녕하세요.\n",
      "안녕하세요.\n",
      "\n",
      "문장을 입력하세요. : \n",
      "종료하려면 'quit'를 입력하세요.반갑습니다.\n",
      "반갑습니다.\n",
      "\n",
      "문장을 입력하세요. : \n",
      "종료하려면 'quit'를 입력하세요.quit\n",
      "quit\n",
      "\n",
      "반복을 종료합니다.\n"
     ]
    }
   ],
   "source": [
    "prompt = \"\\n문장을 입력하세요. : \"\n",
    "prompt += \"\\n종료하려면 'quit'를 입력하세요.\"\n",
    "\n",
    "message = \" \"\n",
    "\n",
    "while message != 'quit':   # != : not equal\n",
    "    message = input(prompt)\n",
    "    print(message)\n",
    "    \n",
    "print(\"\\n반복을 종료합니다.\")"
   ]
  },
  {
   "cell_type": "markdown",
   "id": "33dc969c",
   "metadata": {},
   "source": [
    "### 플래그(Flag) 사용\n",
    "- 지금까지 while 문에서는 조건식을 만족하는 동안은 프로그램이 작업을 반복 수행하도록 했다. 더 복잡한 프로그램에서는 프로그램을 멈추게 해야하는 조건이 여러가지가 있을 수 있다.  \n",
    "예를 들어 게임이라면 여러가지 조건에 의해 게임이 종료된다. 플레이어가 적을 모두 무찌르거나, 정해진 시간동안 퀘스트를 해결하지 못하거나, 플레이어 유닛이 모두 파괴되거나 등등 이유로 게임이 종료된다.  \n",
    "  \n",
    "  이 중 한가지만 만족하더라도 게임은 종료되어야 한다. 이렇게 종료 조건이 여러가지일때 이 조건들을 while문 하나로 모두 검사하여 처리하기는 힘들다.  \n",
    "  이렇게 여러 조건 중 한가지라도 참이거나 혹은 거짓인 경우 프로그램을 종료해야 한다면, 이를 처리하기 위한 변수를 정의해서 전체 프로그램의 종료 여부를 판단하게 할 수 있다. 이런 변수를 특별히 플래그(Flag)라고 부른다. 예를 들어 플래그가 True이면 프로그램 수행을 지속하고, False로 변경되는 순간 종료되도록 while 문을 작성할 수 있다."
   ]
  },
  {
   "cell_type": "code",
   "execution_count": 4,
   "id": "4d6ab004",
   "metadata": {},
   "outputs": [
    {
     "name": "stdout",
     "output_type": "stream",
     "text": [
      "\n",
      "문장을 입력하세요 : \n",
      "종료하려면 'quit'를 입력하세요.안녕하세요.\n",
      "안녕하세요.\n",
      "\n",
      "문장을 입력하세요 : \n",
      "종료하려면 'quit'를 입력하세요.반갑습니다.\n",
      "반갑습니다.\n",
      "\n",
      "문장을 입력하세요 : \n",
      "종료하려면 'quit'를 입력하세요.quit\n",
      "\n",
      "반복을 종료합니다.\n"
     ]
    }
   ],
   "source": [
    "prompt = \"\\n문장을 입력하세요 : \"\n",
    "prompt += \"\\n종료하려면 'quit'를 입력하세요.\"\n",
    "\n",
    "active = True   # 프로그램 수행 여부를 판단하는 플래그\n",
    "message = \" \"\n",
    "\n",
    "while active:\n",
    "    message = input(prompt)\n",
    "    \n",
    "    if message == 'quit':\n",
    "        active = False\n",
    "    else:\n",
    "        print(message)\n",
    "\n",
    "print(\"\\n반복을 종료합니다.\")"
   ]
  },
  {
   "cell_type": "markdown",
   "id": "84bc998d",
   "metadata": {},
   "source": [
    "### break\n",
    "- 조건 테스트와 관계없이 남은 코드를 실행하지 않고 while 문을 즉시 빠져나가려면 break 문을 사용한다.\n",
    "- 예를 들어 사용자에게 방문하고 싶은 장소를 묻는 프로그램을 작성한다고 하자. 사용자가 'quit'를 입력하는 즉시 break 문을 사용하여 while 문을 벗어날 수 있다."
   ]
  },
  {
   "cell_type": "code",
   "execution_count": 2,
   "id": "253c96f3",
   "metadata": {},
   "outputs": [
    {
     "name": "stdout",
     "output_type": "stream",
     "text": [
      "\n",
      "방문하고 싶은 도시 이름을 입력하세요. : \n",
      "(종료하려면 'quit'를 입력하세요.)서울\n",
      "서울에 여행가고 싶어요!\n",
      "\n",
      "방문하고 싶은 도시 이름을 입력하세요. : \n",
      "(종료하려면 'quit'를 입력하세요.)파리\n",
      "파리에 여행가고 싶어요!\n",
      "\n",
      "방문하고 싶은 도시 이름을 입력하세요. : \n",
      "(종료하려면 'quit'를 입력하세요.)quit\n",
      "\n",
      "반복문을 종료합니다.\n"
     ]
    }
   ],
   "source": [
    "prompt = \"\\n방문하고 싶은 도시 이름을 입력하세요. : \"\n",
    "prompt += \"\\n(종료하려면 'quit'를 입력하세요.)\"\n",
    "\n",
    "while True:   # 무한 루프\n",
    "    city = input(prompt)\n",
    "    \n",
    "    if city == 'quit':\n",
    "        print(\"\\n반복문을 종료합니다.\")\n",
    "        break   # break는 반복문을 완전히 벗어난다.\n",
    "    else:\n",
    "        print(f\"{city}에 여행가고 싶어요!\")"
   ]
  },
  {
   "cell_type": "markdown",
   "id": "d63c9829",
   "metadata": {},
   "source": [
    "### continue\n",
    "\n",
    "- break 문이 반복문(for, while)을 완전히 벗어나느 것과 달리 continue 문은 조건 테스트 결과에 따라 루프의 시작지점으로 되돌아갈 수 있다.\n",
    "- 아래는 1부터 10까지의 숫자중 홀수만 출력하는 예이다."
   ]
  },
  {
   "cell_type": "code",
   "execution_count": 3,
   "id": "b81a1bb5",
   "metadata": {},
   "outputs": [
    {
     "name": "stdout",
     "output_type": "stream",
     "text": [
      "1\n",
      "3\n",
      "5\n",
      "7\n",
      "9\n"
     ]
    }
   ],
   "source": [
    "current_number = 0\n",
    "\n",
    "while current_number < 10:\n",
    "    current_number += 1   # iterator(반복자)\n",
    "    if current_number % 2 == 0:\n",
    "        continue\n",
    "        \n",
    "    print(current_number)"
   ]
  },
  {
   "cell_type": "markdown",
   "id": "69a5fffa",
   "metadata": {},
   "source": [
    "### 연습문제\n",
    "1. 극장의 매표소에서 관객의 나이에 따라 입장권 가격을 다르게 책정하고 있다. 극장에서 책정한 가격이 다음과 같을 때  \n",
    "- 3세 미만 : 무료\n",
    "- 3세 이상 12세 이하 : 10,000원\n",
    "- 13세 이상 : 15,000원\n",
    "\n",
    "\\- while 문을 사용하여 관객에게 나이를 묻고, 나이를 입력받아 관객의 입장권 가격을 출력하라. 입력으로 'quit' 문자열이 입력되면 종료되도록 안내하고 처리하라."
   ]
  },
  {
   "cell_type": "code",
   "execution_count": 10,
   "id": "99b8ed60",
   "metadata": {},
   "outputs": [
    {
     "name": "stdout",
     "output_type": "stream",
     "text": [
      "\n",
      "나이를 입력하세요. :\n",
      "'quit'를 입력하면 종료합니다.2\n",
      "2세 이므로 무료 입니다.\n",
      "\n",
      "나이를 입력하세요. :\n",
      "'quit'를 입력하면 종료합니다.10\n",
      "10세 이므로 10,000원 입니다.\n",
      "\n",
      "나이를 입력하세요. :\n",
      "'quit'를 입력하면 종료합니다.15\n",
      "15세 이므로 15,000원 입니다.\n",
      "\n",
      "나이를 입력하세요. :\n",
      "'quit'를 입력하면 종료합니다.quit\n",
      "\n",
      "프로그램을 종료합니다.\n"
     ]
    }
   ],
   "source": [
    "prompt = \"\\n나이를 입력하세요. :\"\n",
    "prompt += \"\\n'quit'를 입력하면 종료합니다.\"\n",
    "\n",
    "while True:\n",
    "    age = input(prompt)\n",
    "    \n",
    "    if age == 'quit':\n",
    "        print(\"\\n프로그램을 종료합니다.\")\n",
    "        break\n",
    "    elif int(age) < 3:\n",
    "        print(f\"{age}세 이므로 무료 입니다.\")\n",
    "    elif int(age) <= 12:\n",
    "        print(f\"{age}세 이므로 10,000원 입니다.\")\n",
    "    else:\n",
    "        print(f\"{age}세 이므로 15,000원 입니다.\")"
   ]
  }
 ],
 "metadata": {
  "kernelspec": {
   "display_name": "Python 3 (ipykernel)",
   "language": "python",
   "name": "python3"
  },
  "language_info": {
   "codemirror_mode": {
    "name": "ipython",
    "version": 3
   },
   "file_extension": ".py",
   "mimetype": "text/x-python",
   "name": "python",
   "nbconvert_exporter": "python",
   "pygments_lexer": "ipython3",
   "version": "3.10.9"
  }
 },
 "nbformat": 4,
 "nbformat_minor": 5
}
