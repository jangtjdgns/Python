{
 "cells": [
  {
   "cell_type": "markdown",
   "id": "bd29bb4c",
   "metadata": {},
   "source": [
    "### 3일차 복습 문제\n",
    "1. range() 함수의 세번째 인수를 사용하여 1부터 10까지의 수 중에서 홀수만 리스트에 저장하고 for문을 이용해서 출력하라."
   ]
  },
  {
   "cell_type": "code",
   "execution_count": 14,
   "id": "fa7c83c4",
   "metadata": {},
   "outputs": [
    {
     "name": "stdout",
     "output_type": "stream",
     "text": [
      "1 3 5 7 9 "
     ]
    }
   ],
   "source": [
    "odd_numbers = list(range(1, 10, 2))\n",
    "for odd_number in odd_numbers:\n",
    "    print(odd_number, end = ' ')"
   ]
  },
  {
   "cell_type": "markdown",
   "id": "d1964135",
   "metadata": {},
   "source": [
    "2. range() 함수를 이용하여 1부터 30까지의 수 중에서 3의 배수만 리스트에 저장하고 for문을 이용해서 출력하라."
   ]
  },
  {
   "cell_type": "code",
   "execution_count": 48,
   "id": "9ebb5f70",
   "metadata": {},
   "outputs": [
    {
     "name": "stdout",
     "output_type": "stream",
     "text": [
      "3 6 9 12 15 18 21 24 27 30 \n",
      "\n",
      "3 6 9 12 15 18 21 24 27 30 "
     ]
    }
   ],
   "source": [
    "multiple_of_three1 = list(range(3, 31, 3))\n",
    "for number1 in multiple_of_three1:\n",
    "    print(number1, end = ' ')\n",
    "print(\"\\n\")\n",
    "\n",
    "multiple_of_three2 = list(range(1, 31))\n",
    "for number2 in multiple_of_three2:\n",
    "    if number2 % 3 == 0:\n",
    "        print(number2, end = ' ')"
   ]
  },
  {
   "cell_type": "markdown",
   "id": "65409ed2",
   "metadata": {},
   "source": [
    "### 리스트의 인덱싱"
   ]
  },
  {
   "cell_type": "code",
   "execution_count": 50,
   "id": "3e23ddc1",
   "metadata": {},
   "outputs": [
    {
     "name": "stdout",
     "output_type": "stream",
     "text": [
      "아바타\n"
     ]
    }
   ],
   "source": [
    "movies = ['아바타', '어벤져스', '기생충', '라라랜드', '인터스텔라']\n",
    "print(movies[0])"
   ]
  },
  {
   "cell_type": "code",
   "execution_count": 51,
   "id": "14bf1f8f",
   "metadata": {},
   "outputs": [
    {
     "name": "stdout",
     "output_type": "stream",
     "text": [
      "인터스텔라\n"
     ]
    }
   ],
   "source": [
    "print(movies[4])"
   ]
  },
  {
   "cell_type": "code",
   "execution_count": 53,
   "id": "bda5c329",
   "metadata": {},
   "outputs": [
    {
     "ename": "IndexError",
     "evalue": "list index out of range",
     "output_type": "error",
     "traceback": [
      "\u001b[1;31m---------------------------------------------------------------------------\u001b[0m",
      "\u001b[1;31mIndexError\u001b[0m                                Traceback (most recent call last)",
      "Cell \u001b[1;32mIn[53], line 1\u001b[0m\n\u001b[1;32m----> 1\u001b[0m \u001b[38;5;28mprint\u001b[39m(\u001b[43mmovies\u001b[49m\u001b[43m[\u001b[49m\u001b[38;5;241;43m5\u001b[39;49m\u001b[43m]\u001b[49m)\n",
      "\u001b[1;31mIndexError\u001b[0m: list index out of range"
     ]
    }
   ],
   "source": [
    "print(movies[5])   # movise 인텍스의 크기보다 큼"
   ]
  },
  {
   "cell_type": "markdown",
   "id": "e81eb8e8",
   "metadata": {},
   "source": [
    "### 리스트의 슬라이싱(slicing)"
   ]
  },
  {
   "cell_type": "markdown",
   "id": "44c2651f",
   "metadata": {},
   "source": [
    "- 파이썬에서는 리스트의 데이터를 잘라내어 원하는 요소들만 추출하는 것이 가능하다.  \n",
    "이러한 작업을 **슬라이싱** 이라고 한다. \n",
    "  \n",
    "  슬라이싱을 하기위해서는 시작 인덱스와 마지막 인덱스를 지정해야한다.  \n",
    "  만약 앞쪽에서 세개의 요소를 슬라이싱하기 원한다면 인덱스 0부터 2 까지 잘라 내어야한다."
   ]
  },
  {
   "cell_type": "code",
   "execution_count": 56,
   "id": "a40b2814",
   "metadata": {},
   "outputs": [
    {
     "name": "stdout",
     "output_type": "stream",
     "text": [
      "['아바타', '어벤져스', '기생충', '라라랜드', '인터스텔라']\n",
      "['아바타', '어벤져스', '기생충']\n"
     ]
    }
   ],
   "source": [
    "movies = ['아바타', '어벤져스', '기생충', '라라랜드', '인터스텔라']\n",
    "print(movies)\n",
    "new_list = movies[0:3]\n",
    "print(new_list)"
   ]
  },
  {
   "cell_type": "code",
   "execution_count": 59,
   "id": "ee24bdcc",
   "metadata": {},
   "outputs": [
    {
     "name": "stdout",
     "output_type": "stream",
     "text": [
      "['아바타', '어벤져스', '기생충', '라라랜드']\n"
     ]
    }
   ],
   "source": [
    "print(movies[:4])   # 리스트의 첫번째 요소부터 인덱스 3까지 슬라이싱"
   ]
  },
  {
   "cell_type": "code",
   "execution_count": 60,
   "id": "83d4b1c9",
   "metadata": {},
   "outputs": [
    {
     "name": "stdout",
     "output_type": "stream",
     "text": [
      "['기생충', '라라랜드', '인터스텔라']\n"
     ]
    }
   ],
   "source": [
    "print(movies[2:])   # 리스트의 세번째 요소부터 마지막까지 스라이싱"
   ]
  },
  {
   "cell_type": "code",
   "execution_count": 61,
   "id": "c39b9201",
   "metadata": {},
   "outputs": [
    {
     "name": "stdout",
     "output_type": "stream",
     "text": [
      "인터스텔라\n"
     ]
    }
   ],
   "source": [
    "print(movies[-1])"
   ]
  },
  {
   "cell_type": "code",
   "execution_count": 62,
   "id": "5e546955",
   "metadata": {},
   "outputs": [
    {
     "name": "stdout",
     "output_type": "stream",
     "text": [
      "['라라랜드', '인터스텔라']\n"
     ]
    }
   ],
   "source": [
    "print(movies[-2:])"
   ]
  },
  {
   "cell_type": "markdown",
   "id": "bd07f44b",
   "metadata": {},
   "source": [
    "리스트의 슬라이싱은 게임안에서 플레이어 점수를 리스트에 담았다면, 이를 정렬한 후 상위 3개의 점수만 슬라이싱하여 보여주거나 데이터 분석에서 전체 데이터중 필요한 데이터만 잘라서 사용한다."
   ]
  },
  {
   "cell_type": "markdown",
   "id": "fc9f2b6f",
   "metadata": {},
   "source": [
    "### 리스트 복사\n",
    "- 현재 리스트와 똑같은 복사본을 만들어야 하는 경우는 원본 전체를 선택하여 원본 전체를 선택하여 변수에 대입하면 된다."
   ]
  },
  {
   "cell_type": "code",
   "execution_count": 64,
   "id": "47e95955",
   "metadata": {},
   "outputs": [
    {
     "name": "stdout",
     "output_type": "stream",
     "text": [
      "리스트 원본 : \n",
      "['아바타', '어벤져스', '기생충', '라라랜드', '인터스텔라']\n"
     ]
    }
   ],
   "source": [
    "movies = ['아바타', '어벤져스', '기생충', '라라랜드', '인터스텔라']\n",
    "\n",
    "# 완전복사\n",
    "movies_copy = movies[:]   # 리스트를 복사하는 방법\n",
    "\n",
    "print(\"리스트 원본 : \")\n",
    "print(movies)"
   ]
  },
  {
   "cell_type": "code",
   "execution_count": 65,
   "id": "9c7c8590",
   "metadata": {},
   "outputs": [
    {
     "name": "stdout",
     "output_type": "stream",
     "text": [
      "['아바타', '어벤져스', '기생충', '라라랜드', '인터스텔라']\n"
     ]
    }
   ],
   "source": [
    "print(movies_copy)"
   ]
  },
  {
   "cell_type": "code",
   "execution_count": 66,
   "id": "3bee4ffa",
   "metadata": {},
   "outputs": [
    {
     "name": "stdout",
     "output_type": "stream",
     "text": [
      "리스트 원본의 주소 : \n",
      "2043096816512\n",
      "리스트 복사본의 주소 : \n",
      "2043096804416\n"
     ]
    }
   ],
   "source": [
    "print(\"리스트 원본의 주소 : \")\n",
    "print(id(movies))   # id() 함수는 변수의 메모리상의 주소를 참조한다.\n",
    "print(\"리스트 복사본의 주소 : \")\n",
    "print(id(movies_copy))"
   ]
  },
  {
   "cell_type": "markdown",
   "id": "c831f025",
   "metadata": {},
   "source": [
    "- 다음과 같이 대입을 통해서도 리스트 복사가 가능할것 같지만 대입을 하는 경우에는 같은 메모리상의 리스트 데이터를 두 변수가 단순히 참조할 뿐 메몰상에 새로운 리스트가 생성되는것은 아니다.  \n",
    "id() 함수를 사용해서 주소를 출력해보면 같은 메모리상의 데이터를 참조하고 있음을 알 수 있다. (얕은 복사)"
   ]
  },
  {
   "cell_type": "code",
   "execution_count": 70,
   "id": "a75d5457",
   "metadata": {
    "scrolled": true
   },
   "outputs": [
    {
     "name": "stdout",
     "output_type": "stream",
     "text": [
      "리스트 원본 : \n",
      "['아바타', '어벤져스', '기생충', '라라랜드', '인터스텔라']\n",
      "movies의 주소 :  2043096922560\n",
      "리스트 복사본 : \n",
      "['아바타', '어벤져스', '기생충', '라라랜드', '인터스텔라']\n",
      "movies_copy의 주소 :  2043096922560\n",
      "첫번째 요소 변경 후 리스트 movies 출력\n",
      "['멍뭉이', '어벤져스', '기생충', '라라랜드', '인터스텔라']\n",
      "첫번째 요소 변경후 리스트 movies_copy 출력\n",
      "['멍뭉이', '어벤져스', '기생충', '라라랜드', '인터스텔라']\n"
     ]
    }
   ],
   "source": [
    "movies = ['아바타', '어벤져스', '기생충', '라라랜드', '인터스텔라']\n",
    "\n",
    "movies_copy = movies\n",
    "\n",
    "print(\"리스트 원본 : \")\n",
    "print(movies)\n",
    "print(\"movies의 주소 : \", id(movies))\n",
    "\n",
    "# 얕은 복사\n",
    "print(\"리스트 복사본 : \")\n",
    "print(movies_copy)\n",
    "print(\"movies_copy의 주소 : \", id(movies_copy))\n",
    "\n",
    "\n",
    "movies[0] = '멍뭉이'\n",
    "print(\"첫번째 요소 변경 후 리스트 movies 출력\")\n",
    "print(movies)\n",
    "\n",
    "# 얕은복사의 문제점 : 원본을 수정하면 복사본도 수정됨\n",
    "\n",
    "print(\"첫번째 요소 변경후 리스트 movies_copy 출력\")\n",
    "print(movies_copy)"
   ]
  },
  {
   "cell_type": "markdown",
   "id": "6cbab764",
   "metadata": {},
   "source": [
    "# 튜플(tuple)\n",
    "---\n",
    "- 리스트는 데이터의 집합을 효율적으로 저장하는 자료형이고, 메모리에 생존하는 동안 요소를 추가하거나 삭제하는 등의 변경이 가능하다.  \n",
    "가끔은 변경이 불가능한 데이터 집합도 필요할 것이다. 이런 경우는 튜플을 사용하면 된다.\n",
    "- 튜플은 요소를 소괄호를 묶는 점을 제외하고 리스트와 상당히 비슷하다. 각각의 요소를 인덱스로 접근할 수 있고 슬라이싱도 가능하다."
   ]
  },
  {
   "cell_type": "code",
   "execution_count": 71,
   "id": "0d3a3f7e",
   "metadata": {},
   "outputs": [
    {
     "name": "stdout",
     "output_type": "stream",
     "text": [
      "10\n",
      "(10, 20, 30)\n"
     ]
    }
   ],
   "source": [
    "numbers = (10, 20, 30, 40, 50)   # 튜플의 정의\n",
    "print(numbers[0])       # 튜플 자료형 인덱싱\n",
    "print(numbers[0 : 3])   # 튜플 자료형 슬라이싱"
   ]
  },
  {
   "cell_type": "markdown",
   "id": "cd315367",
   "metadata": {},
   "source": [
    "- 튜플은 요소가 1개만 있을 때 요소 뒤에 콤마(,)를 반드시 붙여야한다."
   ]
  },
  {
   "cell_type": "code",
   "execution_count": 72,
   "id": "45ec6c5b",
   "metadata": {},
   "outputs": [
    {
     "name": "stdout",
     "output_type": "stream",
     "text": [
      "(100,)\n"
     ]
    }
   ],
   "source": [
    "my_tuple = (100,)\n",
    "print(my_tuple)"
   ]
  },
  {
   "cell_type": "markdown",
   "id": "4baa3d96",
   "metadata": {},
   "source": [
    "- 튜플은 정의시 소괄호()를 생략 가능하다."
   ]
  },
  {
   "cell_type": "code",
   "execution_count": 74,
   "id": "a8f58899",
   "metadata": {},
   "outputs": [
    {
     "name": "stdout",
     "output_type": "stream",
     "text": [
      "(1, 2, 3, 4, 5)\n",
      "<class 'tuple'>\n"
     ]
    }
   ],
   "source": [
    "my_tuple = 1, 2, 3, 4, 5   # packing : 가방을 꾸려넣듯이 데이터를 하나의 변수에 저장한다.\n",
    "print(my_tuple)\n",
    "print(type(my_tuple))"
   ]
  },
  {
   "cell_type": "markdown",
   "id": "7124ca3e",
   "metadata": {},
   "source": [
    "- 튜플 더하기 연산"
   ]
  },
  {
   "cell_type": "code",
   "execution_count": 76,
   "id": "0f553668",
   "metadata": {},
   "outputs": [
    {
     "name": "stdout",
     "output_type": "stream",
     "text": [
      "(1, 3, 5, 2, 4)\n"
     ]
    }
   ],
   "source": [
    "odd_numbers = (1, 3, 5)   # 홀수 요소 값을 저장한 튜플\n",
    "even_numbers = (2, 4)     # 짝수 튜플\n",
    "print(odd_numbers + even_numbers)"
   ]
  },
  {
   "cell_type": "markdown",
   "id": "b98dd039",
   "metadata": {},
   "source": [
    "- 튜플 곱하기 연산"
   ]
  },
  {
   "cell_type": "code",
   "execution_count": 78,
   "id": "95e74305",
   "metadata": {},
   "outputs": [
    {
     "name": "stdout",
     "output_type": "stream",
     "text": [
      "(1, 2, 3, 1, 2, 3, 1, 2, 3)\n"
     ]
    }
   ],
   "source": [
    "my_tuple = (1, 2, 3)\n",
    "print(my_tuple * 3)"
   ]
  },
  {
   "cell_type": "markdown",
   "id": "301a165d",
   "metadata": {},
   "source": [
    "- 튜플의 길이를 알아보기 위해서는 내장함수인 len()을 이용한다."
   ]
  },
  {
   "cell_type": "code",
   "execution_count": 79,
   "id": "53887c15",
   "metadata": {},
   "outputs": [
    {
     "name": "stdout",
     "output_type": "stream",
     "text": [
      "5\n"
     ]
    }
   ],
   "source": [
    "my_tuple = (1, 2, 3, 4, 5)\n",
    "print(len(my_tuple))"
   ]
  },
  {
   "cell_type": "markdown",
   "id": "0eb02259",
   "metadata": {},
   "source": [
    "- 튜플은 변경할 수 없는 자료형이기 때문에 다음과 같이 초기화 이후 변경을 시도하면 에러가 발생된다."
   ]
  },
  {
   "cell_type": "code",
   "execution_count": 80,
   "id": "8f0935dd",
   "metadata": {},
   "outputs": [
    {
     "ename": "TypeError",
     "evalue": "'tuple' object does not support item assignment",
     "output_type": "error",
     "traceback": [
      "\u001b[1;31m---------------------------------------------------------------------------\u001b[0m",
      "\u001b[1;31mTypeError\u001b[0m                                 Traceback (most recent call last)",
      "Cell \u001b[1;32mIn[80], line 2\u001b[0m\n\u001b[0;32m      1\u001b[0m numbers \u001b[38;5;241m=\u001b[39m (\u001b[38;5;241m10\u001b[39m, \u001b[38;5;241m20\u001b[39m, \u001b[38;5;241m30\u001b[39m, \u001b[38;5;241m40\u001b[39m, \u001b[38;5;241m50\u001b[39m)\n\u001b[1;32m----> 2\u001b[0m numbers[\u001b[38;5;241m2\u001b[39m] \u001b[38;5;241m=\u001b[39m \u001b[38;5;241m100\u001b[39m\n",
      "\u001b[1;31mTypeError\u001b[0m: 'tuple' object does not support item assignment"
     ]
    }
   ],
   "source": [
    "numbers = (10, 20, 30, 40, 50)\n",
    "numbers[2] = 100"
   ]
  },
  {
   "cell_type": "markdown",
   "id": "6a719b4a",
   "metadata": {},
   "source": [
    "- 튜플은 리스트와 마찬가지로 for문을 이용해서 모든 요소에 접근이 가능하다."
   ]
  },
  {
   "cell_type": "code",
   "execution_count": 81,
   "id": "9174ccf3",
   "metadata": {},
   "outputs": [
    {
     "name": "stdout",
     "output_type": "stream",
     "text": [
      "10\n",
      "20\n",
      "30\n",
      "40\n",
      "50\n"
     ]
    }
   ],
   "source": [
    "numbers = (10, 20, 30, 40, 50)\n",
    "\n",
    "for number in numbers:\n",
    "    print(number)"
   ]
  },
  {
   "cell_type": "markdown",
   "id": "32e0a6aa",
   "metadata": {},
   "source": [
    "- 튜플은 대입을 사용한 수정은 불가능하지만 재정의를 통해서 값을 변경할 수는 있다."
   ]
  },
  {
   "cell_type": "code",
   "execution_count": 83,
   "id": "c247740d",
   "metadata": {},
   "outputs": [
    {
     "name": "stdout",
     "output_type": "stream",
     "text": [
      "변경전의 튜플 numbers : \n",
      "10\n",
      "20\n",
      "30\n",
      "40\n",
      "50\n",
      "재정의 후의 튜플 numbers : \n",
      "100\n",
      "200\n",
      "300\n",
      "400\n",
      "500\n"
     ]
    }
   ],
   "source": [
    "numbers = (10, 20, 30, 40, 50)\n",
    "print(\"변경전의 튜플 numbers : \")\n",
    "for number in numbers:\n",
    "    print(number)\n",
    "    \n",
    "numbers = (100, 200, 300, 400, 500)\n",
    "print(\"재정의 후의 튜플 numbers : \")\n",
    "for number in numbers:\n",
    "    print(number)"
   ]
  },
  {
   "cell_type": "markdown",
   "id": "90781288",
   "metadata": {},
   "source": [
    "### 튜플 연습문제\n",
    "1. 좋아하는 음식 다섯 가지를 튜플에 저장하고, for문을 이용하여 각각의 음식을 출력하라."
   ]
  },
  {
   "cell_type": "code",
   "execution_count": 87,
   "id": "11391901",
   "metadata": {},
   "outputs": [
    {
     "name": "stdout",
     "output_type": "stream",
     "text": [
      "고기 피자 햄버거 치킨 족발 "
     ]
    }
   ],
   "source": [
    "foods = ('고기', '피자', '햄버거', '치킨', '족발')\n",
    "for food in foods:\n",
    "    print(food, end = ' ')"
   ]
  },
  {
   "cell_type": "markdown",
   "id": "5aebe1f7",
   "metadata": {},
   "source": [
    "# IF STATEMENTS\n",
    "---\n",
    "- 프로그램을 작성하다보면 종종 조건에 따라 어떤 작업을 할 것인가를 결정해야 하는 경우가 생긴다.  \n",
    "날씨가 좋으면 우산이 필요없겠지만, 비가온다면 우산이 필요#할 것이다. 이 경우도 두가지 선택사항이 발생하고, 날씨에 따라 다른 결정을 내리게 된다.\n",
    "\n",
    "- 예를 들어 자동차들의 브랜드명을 담은 리스트가 있을 때 각각의 차에 대한 브랜드명을 출력해야 한다고 생각해보자.  \n",
    "이 예에서는 모든차의 브랜드명은 제목 표기법(title case)으로 출력하되, 'bmw'는 대문자(upper case)로 출력해야 한다면,  \n",
    "자동차 브랜드명을 담고있는 리스트에 대해 for문을 반복하여 순회하면서 'bmw'라는 브랜드명을 찾게되면 대문자로 출력하여야 할 것이다."
   ]
  },
  {
   "cell_type": "code",
   "execution_count": 88,
   "id": "c1908eb3",
   "metadata": {},
   "outputs": [
    {
     "name": "stdout",
     "output_type": "stream",
     "text": [
      "Audi\n",
      "BMW\n",
      "Subaru\n",
      "Toyota\n"
     ]
    }
   ],
   "source": [
    "cars = ['audi', 'bmw', 'subaru', 'toyota']\n",
    "\n",
    "for car in cars:\n",
    "    if car == 'bmw':\n",
    "        print(car.upper())\n",
    "    else:\n",
    "        print(car.title())"
   ]
  },
  {
   "cell_type": "markdown",
   "id": "db330edb",
   "metadata": {},
   "source": [
    "- 루프 안의 첫 줄에서 if문을 사용하여 현재 순회중인 값이 'bmw'인지 체크하여 참이라면 대문자로 출력하고 있다.  \n",
    "'bmw'가 아닌 경우는 else문에 해당되며 제목 표기법으로 출력하고 있다."
   ]
  },
  {
   "cell_type": "markdown",
   "id": "9684a46a",
   "metadata": {},
   "source": [
    "## 조건 테스트\n",
    "- if문은 조건 테스트를 통해서 표현식이 참(True) 혹은 거짓(False)인지 평가하게 된다. 파이썬에서는 조건식이 참인지 거짓인지를 결정ㅈ한 후에 명령문을 수행할지의 여부를 결정한다.  \n",
    "참이라면 if문 영역 안의 명령을 수행하고, 거짓이라면 if문 영역 안의 명령은 무시된다."
   ]
  },
  {
   "cell_type": "markdown",
   "id": "e0a24591",
   "metadata": {},
   "source": [
    "### 두 값이 동일한지 판단\n",
    "- 대부분의 조건 판단은 현재 값이 우리가 찾는 특정값인가를 비교하게 된다. 다음 코드에서 변수 car의 값이 문자열 'bmw'와 일치하는지 여부를 연산자 '=='(equal)를 사용하여 판단한다.\n",
    "'=' : 대입연산자(assignment)\n",
    "'==' : equal연산자"
   ]
  },
  {
   "cell_type": "code",
   "execution_count": 89,
   "id": "b40886d1",
   "metadata": {},
   "outputs": [
    {
     "data": {
      "text/plain": [
       "False"
      ]
     },
     "execution_count": 89,
     "metadata": {},
     "output_type": "execute_result"
    }
   ],
   "source": [
    "car = 'bmw'\n",
    "car == 'bmw'\n",
    "car == 'subaru'"
   ]
  },
  {
   "cell_type": "markdown",
   "id": "09b1f54b",
   "metadata": {},
   "source": [
    "- 파이썬에서는 다음과 같이 대소문자를 구분한다. 아래의 코드에서 'Audi'와 'audi를 조건 판단한 결과는 false가 나온다. 즉, 'Audi'와 'audi' 두 문장을 다른 문자열로 판단한다."
   ]
  },
  {
   "cell_type": "code",
   "execution_count": 90,
   "id": "5dc0ce22",
   "metadata": {},
   "outputs": [
    {
     "data": {
      "text/plain": [
       "False"
      ]
     },
     "execution_count": 90,
     "metadata": {},
     "output_type": "execute_result"
    }
   ],
   "source": [
    "car = 'Audi'\n",
    "car == 'audi'"
   ]
  },
  {
   "cell_type": "code",
   "execution_count": 91,
   "id": "569d9c2a",
   "metadata": {},
   "outputs": [
    {
     "data": {
      "text/plain": [
       "True"
      ]
     },
     "execution_count": 91,
     "metadata": {},
     "output_type": "execute_result"
    }
   ],
   "source": [
    "car = 'Audi'\n",
    "car.lower() == 'audi'"
   ]
  },
  {
   "cell_type": "markdown",
   "id": "aa9b1b5d",
   "metadata": {},
   "source": [
    "### 두 문자열이 다른지 판단\n",
    "(예시)\n",
    "- 두 값이 다른지 판단할 때는 not equal(!=) 연산자를 사용한다.\n",
    "- 다음 예제에서 requested_toppin(주문한 토핑)은 피자위에 올라가는 토핑 문자열을 저장한 변수이다.  \n",
    "if문에서 주문한 토핑이 엔쵸비(anchovies): 멸치가 아니라면 \"멸치는 빼주세요!\"라고 출력하게된다. 주문한 토핑은 '버섯(mushrooms)' 이므로 if문 판단 결과가 참이되어 들여쓰기한 영역 안의 문장이 출력된다."
   ]
  },
  {
   "cell_type": "code",
   "execution_count": 92,
   "id": "14aafaa2",
   "metadata": {},
   "outputs": [
    {
     "name": "stdout",
     "output_type": "stream",
     "text": [
      "Hold the anchovies!\n"
     ]
    }
   ],
   "source": [
    "requested_topping = 'mushrooms'\n",
    "if requested_topping != 'anchovies':   # true\n",
    "    print(\"Hold the anchovies!\")"
   ]
  },
  {
   "cell_type": "markdown",
   "id": "f59bec7d",
   "metadata": {},
   "source": [
    "## 수치 비교\n",
    "- 다음과 같이 수치를 비교할 때도 '=='이나 '!='연산자를 사용할 수 있다."
   ]
  },
  {
   "cell_type": "code",
   "execution_count": 94,
   "id": "83bf6cc5",
   "metadata": {},
   "outputs": [
    {
     "data": {
      "text/plain": [
       "False"
      ]
     },
     "execution_count": 94,
     "metadata": {},
     "output_type": "execute_result"
    }
   ],
   "source": [
    "bullet_count = 32\n",
    "bullet_count == 32   # true\n",
    "bullet_count != 32   # false"
   ]
  },
  {
   "cell_type": "code",
   "execution_count": 98,
   "id": "544eb099",
   "metadata": {},
   "outputs": [
    {
     "name": "stdout",
     "output_type": "stream",
     "text": [
      "1 바이트는 몇 비트 인가요?\n",
      "틀렸습니다. 1바이트는 8비트 입니다.\n"
     ]
    }
   ],
   "source": [
    "print(\"1 바이트는 몇 비트 인가요?\")\n",
    "answer = 10\n",
    "\n",
    "if answer != 8:\n",
    "    print(\"틀렸습니다. 1바이트는 8비트 입니다.\")"
   ]
  },
  {
   "cell_type": "markdown",
   "id": "29c87109",
   "metadata": {},
   "source": [
    "### 다양한 수치 비교 연산자를 이용하여 조건 판단이 가능하다."
   ]
  },
  {
   "cell_type": "code",
   "execution_count": 99,
   "id": "2a2ad00d",
   "metadata": {},
   "outputs": [
    {
     "name": "stdout",
     "output_type": "stream",
     "text": [
      "True\n",
      "True\n",
      "False\n",
      "False\n"
     ]
    }
   ],
   "source": [
    "bullet_count = 32\n",
    "print(bullet_count < 64)   # 총알 갯수가 64보다 작은지 판단\n",
    "print(bullet_count <= 64)  # 총알 갯수가 64 이하인지 판단\n",
    "print(bullet_count > 64)   # 총알 갯수가 64보다 큰지 판단\n",
    "print(bullet_count >= 64)  # 총알 갯수가 64 이상인지 판단"
   ]
  },
  {
   "cell_type": "markdown",
   "id": "d7da7830",
   "metadata": {},
   "source": [
    " ### not 연산자\n",
    " - not 연산자는 현재의 부울값(boolean value)을 반전 시킨 것이다."
   ]
  },
  {
   "cell_type": "code",
   "execution_count": 104,
   "id": "5b1e760f",
   "metadata": {},
   "outputs": [
    {
     "name": "stdout",
     "output_type": "stream",
     "text": [
      "False\n"
     ]
    }
   ],
   "source": [
    "boolean_value = True\n",
    "print(not boolean_value)"
   ]
  },
  {
   "cell_type": "markdown",
   "id": "43d607db",
   "metadata": {},
   "source": [
    "## 여러 조건 판단\n",
    "- 가끔은 여러 조건들을 한번에 판단해야 하는 경우도 있다. 예를들어 게임상에서 몬스터가 주인공 캐릭터를 공격하는 상황을 생각해 보자.  \n",
    "만약 주인공의 체력이 약하고 몬스터가 부상당한 상태가 아니라면 주인공을 공격할 것이다. 이 때 주인공 체력이 약한가와 몬스터가 부상을 당했는가? 라는 두가지 조건에 대해 판단하게 된다.  \n",
    "이런 경우 사용하게 되는 연산자를 논리연산자(logica operator)라 하고, 파이썬에서는 and와 or연산자를 사용한다."
   ]
  },
  {
   "cell_type": "markdown",
   "id": "32de3944",
   "metadata": {},
   "source": [
    "#### and와 or 연산 결과 정리"
   ]
  },
  {
   "cell_type": "markdown",
   "id": "4d6ff78a",
   "metadata": {},
   "source": [
    "|X|Y|X and Y|X or Y|\n",
    "|:-:|:-:|:-:|:-:|\n",
    "|0|0|0|0|\n",
    "|1|0|0|1|\n",
    "|0|1|0|1|\n",
    "|1|1|1|1|"
   ]
  },
  {
   "cell_type": "code",
   "execution_count": 105,
   "id": "dd497403",
   "metadata": {},
   "outputs": [
    {
     "name": "stdout",
     "output_type": "stream",
     "text": [
      "몬스터가 적극적으로 공격합니다.\n"
     ]
    }
   ],
   "source": [
    "player_health_point = 10     # 내 캐릭터의 체력\n",
    "is_monster_wounded = False   # 몬스터가 부상중인지 여부\n",
    "\n",
    "if((player_health_point < 20) and (not is_monster_wounded)):\n",
    "    print(\"몬스터가 적극적으로 공격합니다.\")"
   ]
  },
  {
   "cell_type": "code",
   "execution_count": null,
   "id": "e90ab242",
   "metadata": {},
   "outputs": [],
   "source": [
    "player_health_point = 30     # 내 캐릭터의 체력\n",
    "is_monster_wounded = True    # 몬스터가 부상중인지 여부\n",
    "\n",
    "# 주인공 체력이 20이상이고 몬스터가 부상중이므로 도망갑니다.\n",
    "# 두 개의 조건식이 모두 거짓이므로 print(\"몬스터가 공격합니다\")는 수행되지 않는다.\n",
    "\n",
    "if((player_health_point >= 20) and (not is_monster_wounded)):\n",
    "    print(\"몬스터가 적극적으로 공격합니다.\")"
   ]
  },
  {
   "cell_type": "markdown",
   "id": "cd762184",
   "metadata": {},
   "source": [
    "## 리스트 안에 선택한 값이 존재하는지 판단\n",
    "- 때로는 리스트가 특정 값을 포함하고 있는지 체크해야하는 경우도 있다. 웹사이트에 회원가입을 하는 경우 가입을 원하는 사람이 선택한 아이디가 기존의 회원리스트에서 사용중인 아이디인 경우 다른 아이디를 선택하도록 안내 문구를 내보내는 경우를 들 수 있다. 특정값이 리스트에 포함되어 있는지 여부를 알아보기 위해서는 in 키워드를 사용한다.\n",
    "- 아래는 피자가게에서 손님이 주문한 토핑들 안에 특정 토핑이 포함되어 있는지 여부를 알아내기 위해 in 키워드를 사용하는 예시이다."
   ]
  },
  {
   "cell_type": "code",
   "execution_count": 107,
   "id": "18a63db4",
   "metadata": {},
   "outputs": [
    {
     "data": {
      "text/plain": [
       "True"
      ]
     },
     "execution_count": 107,
     "metadata": {},
     "output_type": "execute_result"
    }
   ],
   "source": [
    "requested_toppings = ['버섯', '양파', '파인애플']\n",
    "'버섯' in requested_toppings"
   ]
  },
  {
   "cell_type": "code",
   "execution_count": 108,
   "id": "1afe9208",
   "metadata": {},
   "outputs": [
    {
     "data": {
      "text/plain": [
       "False"
      ]
     },
     "execution_count": 108,
     "metadata": {},
     "output_type": "execute_result"
    }
   ],
   "source": [
    "'페퍼로니' in requested_toppings"
   ]
  },
  {
   "cell_type": "markdown",
   "id": "4534950a",
   "metadata": {},
   "source": [
    "### 리스트 안에 특정 값이 존재하지 않는지 판단\n",
    "- 리스트안에 특정 값이 포함되어 있지 않는지를 알아내기 위해서는 not in 키워드를 사용한다. 예를 들어 채팅방에서 추방된 유저의 대화 참여를 막기위해 추방 리스트에 해당 유저가 포함되어 있지 않은지 체크할 수 있다."
   ]
  },
  {
   "cell_type": "code",
   "execution_count": 109,
   "id": "a2ee504c",
   "metadata": {},
   "outputs": [
    {
     "name": "stdout",
     "output_type": "stream",
     "text": [
      "지은님은 대화에 참여할 수 있습니다.\n"
     ]
    }
   ],
   "source": [
    "banned_users = ['미애', '정수', '재영']\n",
    "user = '지은'\n",
    "\n",
    "if user not in banned_users:\n",
    "    print(f\"{user}님은 대화에 참여할 수 있습니다.\")"
   ]
  },
  {
   "cell_type": "markdown",
   "id": "84dcc91c",
   "metadata": {},
   "source": [
    "## if 문\n",
    "- 사용하는 조건의 갯수에 따라 여러가지 형태의 if문이 존재하므로 선택하여 사용하면 된다."
   ]
  },
  {
   "cell_type": "markdown",
   "id": "47994127",
   "metadata": {},
   "source": [
    "### 단일 if 문\n",
    "- 단일 if문의 형태는 다음과 같다.\n",
    "~~~ python\n",
    "if conditional_tset:\n",
    "    do something1\n",
    "    do something2\n",
    "    do something3    \n",
    "~~~"
   ]
  },
  {
   "cell_type": "markdown",
   "id": "2dbb725c",
   "metadata": {},
   "source": [
    "- 부울형의 값을 나타내는 조건식이라면 어떤 조건식이라도 if문의 조건식으로 사용할 수 있다. 조건식의 끝에는 반드시 콜론(:)을 찍어 주어야 한다.  \n",
    "조건식이 참인 경우 실행할 문장은 조건식 아래로 들여쓰기하여 작성하면 된다. 실행할 문장들이 여러 줄인 경우 들여쓰기를 맞춰주어 같은 영역임을 표시한다."
   ]
  },
  {
   "cell_type": "code",
   "execution_count": 111,
   "id": "fb855e47",
   "metadata": {},
   "outputs": [
    {
     "name": "stdout",
     "output_type": "stream",
     "text": [
      "당신은 투표 가능한 연령입니다.\n",
      "투표 용지를 수령하셨나요?\n"
     ]
    }
   ],
   "source": [
    "# 에제\n",
    "age = 19\n",
    "\n",
    "if age >= 18:\n",
    "    print(\"당신은 투표 가능한 연령입니다.\")\n",
    "    print(\"투표 용지를 수령하셨나요?\")"
   ]
  },
  {
   "cell_type": "code",
   "execution_count": 114,
   "id": "9975fdbf",
   "metadata": {},
   "outputs": [],
   "source": [
    "age = 15\n",
    "\n",
    "if age >= 18:\n",
    "    print(\"당신은 투표 가능한 연령입니다.\")\n",
    "    print(\"투표 용지를 수령하셨나요\")"
   ]
  },
  {
   "cell_type": "markdown",
   "id": "10b48a3e",
   "metadata": {},
   "source": [
    "## if - else 문\n",
    "- 가끔 조건에 따라 하나의 행동을 취하고 다른 모든 조건에서는 또 다른 행동을 취해야 하는 경우가 있다. 이 때 if-else 구문을 사용하면 된다.  \n",
    "단일 if문의 경우 조건식이 거짓이면 따로 처리할 작업이 없지만 if-else문은 if문의 조건식이며 거짓인 경우 else 구문에서 조건식 이외에 해당하는 작업을 처리하게 된다."
   ]
  },
  {
   "cell_type": "code",
   "execution_count": 115,
   "id": "1cb1992c",
   "metadata": {},
   "outputs": [
    {
     "name": "stdout",
     "output_type": "stream",
     "text": [
      "당신을 투표 가능한 연령이 아닙니다.\n"
     ]
    }
   ],
   "source": [
    "age = 17\n",
    "\n",
    "if age >= 18:\n",
    "    print(\"당신은 투표 가능한 연령입니다.\")\n",
    "    print(\"투표 용지를 수령하셨나요\")\n",
    "else:\n",
    "    print(\"당신을 투표 가능한 연령이 아닙니다.\")"
   ]
  },
  {
   "cell_type": "markdown",
   "id": "2cc93587",
   "metadata": {},
   "source": [
    "## if - elif - else 문\n",
    "- 가끔은 두 개 이상의 상황에 대해 평가하고 어떤 행동을 취해야 하는 경우도 있다. 이런 경우 if-elif-else 문을 사용한다.  \n",
    "if-elif-else 구문은 테스트가 성공할 때까지 아래의 조건 판단을 계쏙 수행한다. 조건 판단이 참인 경우 해앋믹업들을 수행하고 if-elif-else 구문을 완전히 벗어난다."
   ]
  },
  {
   "cell_type": "code",
   "execution_count": 117,
   "id": "c6645271",
   "metadata": {},
   "outputs": [
    {
     "name": "stdout",
     "output_type": "stream",
     "text": [
      "당신의 입장료는 25,000원 입니다.\n"
     ]
    }
   ],
   "source": [
    "age = 12\n",
    "\n",
    "if age < 4:\n",
    "    print(\"무료 입장입니다.\")\n",
    "elif age < 8:\n",
    "    print(\"당신의 입장료는 15,000원 입니다.\")\n",
    "else:\n",
    "    print(\"당신의 입장료는 25,000원 입니다.\")"
   ]
  },
  {
   "cell_type": "code",
   "execution_count": 118,
   "id": "383962c9",
   "metadata": {},
   "outputs": [
    {
     "name": "stdout",
     "output_type": "stream",
     "text": [
      "당신의 입장료는 25000원 입니다.\n"
     ]
    }
   ],
   "source": [
    "# 더 간결한 형태\n",
    "\n",
    "age = 12\n",
    "\n",
    "if age < 4:\n",
    "    price = 0\n",
    "elif age < 8:\n",
    "    price = 15_000\n",
    "else:\n",
    "    price = 25_000\n",
    "print(f\"당신의 입장료는 {price}원 입니다.\")"
   ]
  },
  {
   "cell_type": "markdown",
   "id": "8028ab63",
   "metadata": {},
   "source": [
    "### 다중 elif 문\n",
    "- elif 문을 여러번 사용하는 것도 가능하다."
   ]
  },
  {
   "cell_type": "code",
   "execution_count": 120,
   "id": "20a94b63",
   "metadata": {},
   "outputs": [
    {
     "name": "stdout",
     "output_type": "stream",
     "text": [
      "당신의 입장료는 15000원 입니다.\n"
     ]
    }
   ],
   "source": [
    "age = 12\n",
    "if age < 4:\n",
    "    price = 0\n",
    "elif age < 18:\n",
    "    price = 15_000\n",
    "elif age < 65:\n",
    "    price = 25_000\n",
    "else:\n",
    "    price = 10_000\n",
    "    \n",
    "print(f\"당신의 입장료는 {price}원 입니다.\")"
   ]
  },
  {
   "cell_type": "markdown",
   "id": "fb276223",
   "metadata": {},
   "source": [
    "### 다중 조건 판단\n",
    "- if-elif-else문은 통과 조건이 단 하나일때만 사용가능하다. if-elfi-else문의 조건식 하나가 참이되면 해당 명령을 수행한 즉시 if-elif-else 문을 벗어난다. 만약 모든 조건을 체크해야 하는 경우 다음과 같이 if문을 여러 개 사용하여 처리할 수 있다."
   ]
  },
  {
   "cell_type": "code",
   "execution_count": 124,
   "id": "243c08d4",
   "metadata": {},
   "outputs": [
    {
     "name": "stdout",
     "output_type": "stream",
     "text": [
      "버섯 추가\n",
      "치즈 추가\n",
      "피자 완성!!\n"
     ]
    }
   ],
   "source": [
    "requested_toppings = ['버섯', '치즈추가']\n",
    "if '버섯' in requested_toppings:\n",
    "    print(\"버섯 추가\")\n",
    "if '페퍼로니' in requested_toppings:\n",
    "    print(\"페퍼로니 추가\")\n",
    "if '치즈추가' in requested_toppings:\n",
    "    print(\"치즈 추가\")\n",
    "\n",
    "print(\"피자 완성!!\")"
   ]
  },
  {
   "cell_type": "markdown",
   "id": "b12e8359",
   "metadata": {},
   "source": [
    "### 조건문 연습문제\n",
    "1. 게임을 플레이하다가 외계인을 잡았을 때, alien_color라는 변수에 'green', 'yellow', 'red' 중 한 가지 색깔을 띄게 된다.  \n",
    "if 문으로 외계인의 색깔이 녹색인지 체크하고, 녹색이라면 \"플레이어가 5점을 흭득했습니다.\"라는 문구를 띄우시오. 이 때 alien_color는 임의로 세 가지 색깔 중 하나를 선택합니다."
   ]
  },
  {
   "cell_type": "code",
   "execution_count": 132,
   "id": "201eedf2",
   "metadata": {},
   "outputs": [
    {
     "name": "stdout",
     "output_type": "stream",
     "text": [
      "플레이어가 5점을 흭득했습니다.\n",
      "플레이어가 5점을 흭득했습니다.\n"
     ]
    }
   ],
   "source": [
    "alien_color = 'green'\n",
    "\n",
    "if 'green' in alien_color:\n",
    "    print(\"플레이어가 5점을 흭득했습니다.\")\n",
    "\n",
    "if alien_color == 'green':\n",
    "    print(\"플레이어가 5점을 흭득했습니다.\")"
   ]
  },
  {
   "cell_type": "markdown",
   "id": "3db88f98",
   "metadata": {},
   "source": [
    "2. 포획한 외계인의 색깔에 따라 다음과 같이 if-elif-else 문을 이용하여 출력하세요.\n",
    "- 외계인의 색깔이 녹색이면 \"5점을 흭득했습니다.\"\n",
    "- 외계인의 색깔이 노랑이면 \"10점을 흭득했습니다.\"\n",
    "- 외계인의 색깔이 빨강이면 \"15점을 흭득했습니다.\""
   ]
  },
  {
   "cell_type": "code",
   "execution_count": 136,
   "id": "2d86bf78",
   "metadata": {},
   "outputs": [
    {
     "name": "stdout",
     "output_type": "stream",
     "text": [
      "15점을 흭득했습니다.\n"
     ]
    }
   ],
   "source": [
    "alien_color = 'red'\n",
    "\n",
    "if alien_color == 'green':\n",
    "    print(\"5점을 흭득했습니다.\")\n",
    "elif alien_color == 'yellow':\n",
    "    print(\"10점을 흭득했습니다.\")\n",
    "else:\n",
    "    print(\"15점을 흭득했습니다.\")\n",
    "    "
   ]
  }
 ],
 "metadata": {
  "kernelspec": {
   "display_name": "Python 3 (ipykernel)",
   "language": "python",
   "name": "python3"
  },
  "language_info": {
   "codemirror_mode": {
    "name": "ipython",
    "version": 3
   },
   "file_extension": ".py",
   "mimetype": "text/x-python",
   "name": "python",
   "nbconvert_exporter": "python",
   "pygments_lexer": "ipython3",
   "version": "3.10.9"
  }
 },
 "nbformat": 4,
 "nbformat_minor": 5
}
