{
 "cells": [
  {
   "cell_type": "code",
   "execution_count": 21,
   "id": "fd3d9506",
   "metadata": {
    "scrolled": true
   },
   "outputs": [
    {
     "name": "stdout",
     "output_type": "stream",
     "text": [
      "12\n"
     ]
    }
   ],
   "source": [
    "myVar = 5 + 7\n",
    "print(myVar)"
   ]
  },
  {
   "cell_type": "code",
   "execution_count": 22,
   "id": "885e88fa",
   "metadata": {
    "scrolled": false
   },
   "outputs": [
    {
     "name": "stdout",
     "output_type": "stream",
     "text": [
      "3\n"
     ]
    }
   ],
   "source": [
    "otherVar = 3\n",
    "print(otherVar)"
   ]
  },
  {
   "cell_type": "code",
   "execution_count": 23,
   "id": "b4fe20b7",
   "metadata": {},
   "outputs": [
    {
     "name": "stdout",
     "output_type": "stream",
     "text": [
      "50\n"
     ]
    }
   ],
   "source": [
    "thirdVar = 50\n",
    "print(thirdVar)"
   ]
  },
  {
   "cell_type": "markdown",
   "id": "e6a05a3e",
   "metadata": {},
   "source": [
    "a = 30\n",
    "print(a)"
   ]
  },
  {
   "cell_type": "markdown",
   "id": "a4d9e712",
   "metadata": {},
   "source": [
    "<h1>첫 번째 수업</h1>\n",
    "\n",
    "# 첫 번째 수업"
   ]
  },
  {
   "cell_type": "code",
   "execution_count": 16,
   "id": "9aae0d14",
   "metadata": {},
   "outputs": [
    {
     "name": "stdout",
     "output_type": "stream",
     "text": [
      "a : 10\n"
     ]
    }
   ],
   "source": [
    "# 들여쓰기 필수\n",
    "\n",
    "a = 10\n",
    "\n",
    "if a < 0:\n",
    "    a += 5\n",
    "    print(\"변수 a의 값을 5증가 시켰습니다.\")\n",
    "    print(\"a : \" + str(a))\n",
    "else :\n",
    "    print(\"a : \" + str(a))\n",
    "    "
   ]
  },
  {
   "cell_type": "code",
   "execution_count": 25,
   "id": "b15388ef",
   "metadata": {},
   "outputs": [
    {
     "name": "stdout",
     "output_type": "stream",
     "text": [
      "안녕하세요\n"
     ]
    }
   ],
   "source": [
    "# 주석 테스트입니다.\n",
    "print(\"안녕하세요\")"
   ]
  },
  {
   "cell_type": "markdown",
   "id": "cffb61c6",
   "metadata": {},
   "source": [
    "#### 여러줄 주석"
   ]
  },
  {
   "cell_type": "code",
   "execution_count": 27,
   "id": "2f0c7c2c",
   "metadata": {},
   "outputs": [
    {
     "data": {
      "text/plain": [
       "'\\n안녕하세요.  \\n반갑습니다.  \\n'"
      ]
     },
     "execution_count": 27,
     "metadata": {},
     "output_type": "execute_result"
    }
   ],
   "source": [
    "'''\n",
    "안녕하세요.\n",
    "반갑습니다.\n",
    "'''"
   ]
  },
  {
   "cell_type": "markdown",
   "id": "9153cc5e",
   "metadata": {},
   "source": [
    "#### Ctrl + / -> 선택한 줄 주석처리 가능"
   ]
  },
  {
   "cell_type": "code",
   "execution_count": 26,
   "id": "b2fcfd9f",
   "metadata": {},
   "outputs": [
    {
     "name": "stdout",
     "output_type": "stream",
     "text": [
      "a : 10\n"
     ]
    }
   ],
   "source": [
    "a = 10\n",
    "\n",
    "if a < 0:\n",
    "    a += 5\n",
    "    print(\"변수 a의 값을 5증가 시켰습니다.\")\n",
    "    print(\"a : \" + str(a))\n",
    "else :\n",
    "    print(\"a : \" + str(a))"
   ]
  },
  {
   "cell_type": "markdown",
   "id": "960394fa",
   "metadata": {},
   "source": [
    "#### 줄바꿈 -> 공백 두번\n",
    "가나다라마바사아자차카타파하  \n",
    "가나다라마바사아자차카타파하  \n",
    "가나다라마바사아자차카타파하  \n",
    "가나다라마바사아자차카타파하"
   ]
  }
 ],
 "metadata": {
  "kernelspec": {
   "display_name": "Python 3 (ipykernel)",
   "language": "python",
   "name": "python3"
  },
  "language_info": {
   "codemirror_mode": {
    "name": "ipython",
    "version": 3
   },
   "file_extension": ".py",
   "mimetype": "text/x-python",
   "name": "python",
   "nbconvert_exporter": "python",
   "pygments_lexer": "ipython3",
   "version": "3.10.9"
  }
 },
 "nbformat": 4,
 "nbformat_minor": 5
}
