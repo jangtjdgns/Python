{
 "cells": [
  {
   "cell_type": "markdown",
   "id": "a957be1e",
   "metadata": {},
   "source": [
    "### 변수"
   ]
  },
  {
   "cell_type": "code",
   "execution_count": 2,
   "id": "b9c622a8",
   "metadata": {},
   "outputs": [
    {
     "name": "stdout",
     "output_type": "stream",
     "text": [
      "Hello Python\n"
     ]
    }
   ],
   "source": [
    "print(\"Hello Python\")"
   ]
  },
  {
   "cell_type": "code",
   "execution_count": 11,
   "id": "c9fe7305",
   "metadata": {},
   "outputs": [
    {
     "name": "stdout",
     "output_type": "stream",
     "text": [
      "Hello Python!!\n"
     ]
    }
   ],
   "source": [
    "message = \"Hello Python!!\"\n",
    "print(message)"
   ]
  },
  {
   "cell_type": "code",
   "execution_count": 12,
   "id": "fc75e1f4",
   "metadata": {},
   "outputs": [
    {
     "name": "stdout",
     "output_type": "stream",
     "text": [
      "I study Python.\n"
     ]
    }
   ],
   "source": [
    "message = \"I study Python.\"\n",
    "print(message)"
   ]
  },
  {
   "cell_type": "markdown",
   "id": "72c355af",
   "metadata": {},
   "source": [
    "변수 message는 처음에 \"Hello Python!!\"이라는 문자열을 저장  \n",
    "이후 \"I study Python.\"이라는 다른 문자열로 저장 가능"
   ]
  },
  {
   "cell_type": "markdown",
   "id": "00d672f1",
   "metadata": {},
   "source": [
    "### 변수명 제한사항\n",
    "1. 변수의 이름으로 문자, 숫자, 언더라인만 허용한다. 문자나 언더라인으로 시작할 수 있고 숫자로 시작해서는 안된다.\n",
    "2. 변수명 중간에 공백이 있어서는 안된다. 밑줄로 두 단어를 구분지어 사용하는 방법을 사용한다.  \n",
    "ex) abc def -> x  /  abc_def -> o\n",
    "3. 파이썬에서 사용되는 특수 예악어들은 변수명으로 사용 불가하다. -> 명령어\n",
    "4. 변수명은 사용 용도에 맞게 의미있는 이름을 사용해야한다."
   ]
  },
  {
   "cell_type": "code",
   "execution_count": 1,
   "id": "a9dcdd59",
   "metadata": {},
   "outputs": [],
   "source": [
    "bulletCount = 20     #카멜 표기법\n",
    "bullet_Count = 20    #스네이크 표기법 (밑줄 사용)"
   ]
  },
  {
   "cell_type": "code",
   "execution_count": 2,
   "id": "b9ac0277",
   "metadata": {},
   "outputs": [
    {
     "name": "stdout",
     "output_type": "stream",
     "text": [
      "Hello Python\n"
     ]
    }
   ],
   "source": [
    "message = \"Hello Python\"\n",
    "print(message)"
   ]
  },
  {
   "cell_type": "markdown",
   "id": "7883e9b5",
   "metadata": {},
   "source": [
    "# 자료형"
   ]
  },
  {
   "cell_type": "markdown",
   "id": "07c424a2",
   "metadata": {},
   "source": [
    "## 1. 문자열\n",
    "문자열형은 문자들이 연속적으로 늘어서 있는 형태의 자료, 큰 따옴표나 작은 따옴표로 묶어서 표기한다."
   ]
  },
  {
   "cell_type": "code",
   "execution_count": 11,
   "id": "f16cd5d2",
   "metadata": {},
   "outputs": [
    {
     "name": "stdout",
     "output_type": "stream",
     "text": [
      "안녕하세요\n",
      "만나서 반갑습니다\n"
     ]
    }
   ],
   "source": [
    "print(\"안녕하세요\")\n",
    "print('만나서 반갑습니다')"
   ]
  },
  {
   "cell_type": "code",
   "execution_count": 21,
   "id": "908c616d",
   "metadata": {},
   "outputs": [
    {
     "ename": "SyntaxError",
     "evalue": "invalid syntax (2117080582.py, line 1)",
     "output_type": "error",
     "traceback": [
      "\u001b[1;36m  Cell \u001b[1;32mIn[21], line 1\u001b[1;36m\u001b[0m\n\u001b[1;33m    '여러분!' 시작이 반이다. '라는 말 들어 보셨나요?'\u001b[0m\n\u001b[1;37m           ^\u001b[0m\n\u001b[1;31mSyntaxError\u001b[0m\u001b[1;31m:\u001b[0m invalid syntax\n"
     ]
    }
   ],
   "source": [
    "'여러분!' 시작이 반이다. '라는 말 들어 보셨나요?'\n",
    "\"어머니께서\" 아들아, 가서 양파 좀 사오너라. \"하고 말씀하셨다.\"\n",
    "# 오류"
   ]
  },
  {
   "cell_type": "code",
   "execution_count": 20,
   "id": "1e49abf5",
   "metadata": {},
   "outputs": [
    {
     "data": {
      "text/plain": [
       "\"어머니께서' 아들아, 가서 양파 좀 사오너라. '하고 말씀하셨다.\""
      ]
     },
     "execution_count": 20,
     "metadata": {},
     "output_type": "execute_result"
    }
   ],
   "source": [
    "\"여러분!' 시작이 반이다. '라는 말 들어 보셨나요?\"\n",
    "\"어머니께서' 아들아, 가서 양파 좀 사오너라. '하고 말씀하셨다.\""
   ]
  },
  {
   "cell_type": "markdown",
   "id": "52aef2a4",
   "metadata": {},
   "source": [
    "\\' # 탈출문자(escape squance)사용"
   ]
  },
  {
   "cell_type": "code",
   "execution_count": 22,
   "id": "d3383a2f",
   "metadata": {},
   "outputs": [
    {
     "data": {
      "text/plain": [
       "\"어머니께서' 아들아, 가서 양파 좀 사오너라. '하고 말씀하셨다.\""
      ]
     },
     "execution_count": 22,
     "metadata": {},
     "output_type": "execute_result"
    }
   ],
   "source": [
    "\"여러분!\\' 시작이 반이다. \\'라는 말 들어 보셨나요?\"\n",
    "\"어머니께서\\' 아들아, 가서 양파 좀 사오너라. \\'하고 말씀하셨다.\""
   ]
  },
  {
   "cell_type": "code",
   "execution_count": 37,
   "id": "a70c806a",
   "metadata": {},
   "outputs": [
    {
     "data": {
      "text/plain": [
       "'\\nㅁㄴㅇㅁㄴㅇ\\n'"
      ]
     },
     "execution_count": 37,
     "metadata": {},
     "output_type": "execute_result"
    }
   ],
   "source": [
    "# 문자열 여러줄 사용할때 큰 따옴표 3개 또는 작은 따옴표 3개를 사용하여 묶어준다.\n",
    "'''\n",
    "ㅁㄴㅇㅁㄴㅇ\n",
    "'''\n",
    "\n",
    "\"\"\"\n",
    "ㅁㄴㅇㅁㄴㅇ\n",
    "\"\"\""
   ]
  },
  {
   "cell_type": "markdown",
   "id": "83d85ee3",
   "metadata": {},
   "source": [
    "### 문자열 관련 함수들\n",
    "각각의 단어 첫 글자만 대문자로 변경하고자 하는 경우 'title()'이라는 메소드를 사용한다.  "
   ]
  },
  {
   "cell_type": "code",
   "execution_count": 29,
   "id": "13f648ad",
   "metadata": {},
   "outputs": [
    {
     "name": "stdout",
     "output_type": "stream",
     "text": [
      "Jack Smith\n"
     ]
    }
   ],
   "source": [
    "name = \"jack smith\"    # 전부 소문자\n",
    "print(name.title())    # 단어 첫 글자들만 대문자로 변경"
   ]
  },
  {
   "cell_type": "markdown",
   "id": "2c2d0097",
   "metadata": {},
   "source": [
    "### 문자열을 전부 대문자, 소문자로 변경하기 위해서는 upper(), lower()메소드를 사용한다.\n",
    "-> upper() 대문자, lower() 소문자"
   ]
  },
  {
   "cell_type": "code",
   "execution_count": 32,
   "id": "1a913488",
   "metadata": {},
   "outputs": [
    {
     "name": "stdout",
     "output_type": "stream",
     "text": [
      "JACK SMITH\n",
      "jack smith\n"
     ]
    }
   ],
   "source": [
    "name = \"Jack Smith\"\n",
    "print(name.upper())\n",
    "print(name.lower())"
   ]
  },
  {
   "cell_type": "code",
   "execution_count": 34,
   "id": "41a0dc57",
   "metadata": {},
   "outputs": [
    {
     "name": "stdout",
     "output_type": "stream",
     "text": [
      "Jack Smith\n"
     ]
    }
   ],
   "source": [
    "print(name)"
   ]
  },
  {
   "cell_type": "markdown",
   "id": "2418f838",
   "metadata": {},
   "source": [
    "### 문자열 공백 제거 메소드\n",
    "rstrip() : 문자열 오른쪽 끝 공백을 제거하는 메소드 "
   ]
  },
  {
   "cell_type": "code",
   "execution_count": 54,
   "id": "93bcd2d9",
   "metadata": {},
   "outputs": [
    {
     "data": {
      "text/plain": [
       "'violet'"
      ]
     },
     "execution_count": 54,
     "metadata": {},
     "output_type": "execute_result"
    }
   ],
   "source": [
    "current_color = \"violet \"\n",
    "current_color = current_color.rstrip()\n",
    "current_color"
   ]
  },
  {
   "cell_type": "markdown",
   "id": "8db76486",
   "metadata": {},
   "source": [
    "lstrip() : 문자열 왼쪽끝 공백을 제거하는 메소드"
   ]
  },
  {
   "cell_type": "code",
   "execution_count": 57,
   "id": "5194e3a5",
   "metadata": {},
   "outputs": [
    {
     "data": {
      "text/plain": [
       "'violet '"
      ]
     },
     "execution_count": 57,
     "metadata": {},
     "output_type": "execute_result"
    }
   ],
   "source": [
    "current_color = \" violet\"\n",
    "current_color = current_color.lstrip()\n",
    "current_color"
   ]
  },
  {
   "cell_type": "markdown",
   "id": "4d653e3b",
   "metadata": {},
   "source": [
    "strip() : 문자열 양쪽 끝 공백을 제거하는 메소드"
   ]
  },
  {
   "cell_type": "code",
   "execution_count": 59,
   "id": "a018f0a4",
   "metadata": {},
   "outputs": [
    {
     "data": {
      "text/plain": [
       "'violet'"
      ]
     },
     "execution_count": 59,
     "metadata": {},
     "output_type": "execute_result"
    }
   ],
   "source": [
    "current_color = \" violet \"\n",
    "current_color = current_color.strip()\n",
    "current_color"
   ]
  },
  {
   "cell_type": "markdown",
   "id": "78a51005",
   "metadata": {},
   "source": [
    "### 문자열 메소드\n",
    "1. title() : 문자열에서 단어 첫 글자만 대문자로 변경\n",
    "2. upper() : 문자열 전부 대문자로 변경\n",
    "3. lower() : 문자열 전부 소문자로 변경\n",
    "4. rstrip() : 문자열 오른쪽 끝 공백을 제거\n",
    "5. lstrip() : 문자열 왼쪽끝 공백을 제거하는 메소드\n",
    "6. strip() : 문자열 양쪽 끝 공백을 제거하는 메소드"
   ]
  },
  {
   "cell_type": "markdown",
   "id": "93cc7b6a",
   "metadata": {},
   "source": [
    "문자열안에서 개행(줄바꿈)시 '\\n\\' 사용  \n",
    "tab만큼의 공백을 띄울때는 '\\t' 사용"
   ]
  },
  {
   "cell_type": "code",
   "execution_count": 140,
   "id": "bd3e46a8",
   "metadata": {},
   "outputs": [
    {
     "name": "stdout",
     "output_type": "stream",
     "text": [
      "1. \\n 사용\n",
      "Pyt\n",
      "hon\n",
      "\n",
      "2. \\t 사용\n",
      "Pyt\thon\n"
     ]
    }
   ],
   "source": [
    "print(\"1. \\\\n 사용\\n\" + \"Pyt\\nhon\")\n",
    "print()\n",
    "print(\"2. \\\\t 사용\\n\" + \"Pyt\\thon\")"
   ]
  },
  {
   "cell_type": "code",
   "execution_count": 71,
   "id": "6895dbff",
   "metadata": {},
   "outputs": [
    {
     "name": "stdout",
     "output_type": "stream",
     "text": [
      "language\n",
      "python\n",
      "C\n",
      "JavaScript\n"
     ]
    }
   ],
   "source": [
    "print(\"language\\npython\\nC\\nJavaScript\")"
   ]
  },
  {
   "cell_type": "markdown",
   "id": "881f8cab",
   "metadata": {},
   "source": [
    "## 2. 숫자형"
   ]
  },
  {
   "cell_type": "code",
   "execution_count": 72,
   "id": "72631905",
   "metadata": {},
   "outputs": [
    {
     "data": {
      "text/plain": [
       "5"
      ]
     },
     "execution_count": 72,
     "metadata": {},
     "output_type": "execute_result"
    }
   ],
   "source": [
    "2 + 3"
   ]
  },
  {
   "cell_type": "code",
   "execution_count": 73,
   "id": "7ec5622c",
   "metadata": {},
   "outputs": [
    {
     "data": {
      "text/plain": [
       "1"
      ]
     },
     "execution_count": 73,
     "metadata": {},
     "output_type": "execute_result"
    }
   ],
   "source": [
    "3 - 2"
   ]
  },
  {
   "cell_type": "code",
   "execution_count": 96,
   "id": "6efd77e6",
   "metadata": {},
   "outputs": [
    {
     "name": "stdout",
     "output_type": "stream",
     "text": [
      "6\n",
      "27\n"
     ]
    }
   ],
   "source": [
    "print(3 * 2)   # 곱하기는 * (asterisk)를 사용한다.\n",
    "print(3 ** 3)  # 제곱연산 3^3"
   ]
  },
  {
   "cell_type": "code",
   "execution_count": 99,
   "id": "41eec9c1",
   "metadata": {},
   "outputs": [
    {
     "name": "stdout",
     "output_type": "stream",
     "text": [
      "1.5\n",
      "1\n",
      "1\n",
      "3\n"
     ]
    }
   ],
   "source": [
    "# 나눗셈\n",
    "print(3 / 2)\n",
    "print(3 // 2)   # 나누기 연산한 몫만 반환\n",
    "print(10 % 3)   # 나머지 연산\n",
    "print(10 // 3)"
   ]
  },
  {
   "cell_type": "code",
   "execution_count": 105,
   "id": "e2a32f2d",
   "metadata": {},
   "outputs": [
    {
     "name": "stdout",
     "output_type": "stream",
     "text": [
      "14\n",
      "2.0\n"
     ]
    }
   ],
   "source": [
    "# 우선순위는 +, - 보다 *, /가 높다\n",
    "print(2 + 3 * 4)\n",
    "# 괄호 사용시 우선순위 부여 가능\n",
    "print((2 + 3) * 4 / (7 + 3))"
   ]
  },
  {
   "cell_type": "markdown",
   "id": "7a8f9c82",
   "metadata": {},
   "source": [
    "### 실수"
   ]
  },
  {
   "cell_type": "code",
   "execution_count": 106,
   "id": "e40ee0c6",
   "metadata": {},
   "outputs": [
    {
     "name": "stdout",
     "output_type": "stream",
     "text": [
      "3.141592\n"
     ]
    }
   ],
   "source": [
    "pi = 3.141592\n",
    "print(pi)"
   ]
  },
  {
   "cell_type": "code",
   "execution_count": 113,
   "id": "7a6d481a",
   "metadata": {},
   "outputs": [
    {
     "name": "stdout",
     "output_type": "stream",
     "text": [
      "0.2\n",
      "0.4\n",
      "0.30000000000000004\n"
     ]
    }
   ],
   "source": [
    "# 실수 연산\n",
    "print(0.1 + 0.1)\n",
    "print(2 * 0.2)\n",
    "print(0.1 + 0.2)   # 부동소수점의 오차"
   ]
  },
  {
   "cell_type": "code",
   "execution_count": null,
   "id": "2571b2ab",
   "metadata": {},
   "outputs": [],
   "source": [
    "# float"
   ]
  },
  {
   "cell_type": "code",
   "execution_count": null,
   "id": "b225cae1",
   "metadata": {
    "scrolled": true
   },
   "outputs": [],
   "source": [
    "10.1234 * 10\n",
    "101.234"
   ]
  },
  {
   "cell_type": "code",
   "execution_count": 124,
   "id": "49ecee4c",
   "metadata": {},
   "outputs": [
    {
     "name": "stdout",
     "output_type": "stream",
     "text": [
      "5000000000\n"
     ]
    }
   ],
   "source": [
    "number = 5_000_000_000   # 가독성을 높이기 위해 언더바를 사용\n",
    "print(number)"
   ]
  },
  {
   "cell_type": "markdown",
   "id": "02195c47",
   "metadata": {},
   "source": [
    "### 대입연산자\n",
    "변수에 값을 넣는 작업을 대입이라하고 연산자는 '='를 사용한다."
   ]
  },
  {
   "cell_type": "code",
   "execution_count": 129,
   "id": "b56ec428",
   "metadata": {},
   "outputs": [
    {
     "name": "stdout",
     "output_type": "stream",
     "text": [
      "x :  10 \n",
      "y :  20 \n",
      "z :  30\n"
     ]
    }
   ],
   "source": [
    "# 파이썬은 여러개의 변수에 값을 한번에 대입할 수 있다.\n",
    "x, y, z = 10, 20, 30\n",
    "# x = 10\n",
    "# y = 20\n",
    "# z = 30\n",
    "\n",
    "print(\"x : \", x, \"\\ny : \", y, \"\\nz : \", z)"
   ]
  },
  {
   "cell_type": "markdown",
   "id": "efa56e24",
   "metadata": {},
   "source": [
    "### 상수(constant number)"
   ]
  },
  {
   "cell_type": "code",
   "execution_count": 134,
   "id": "8d1f1c4d",
   "metadata": {},
   "outputs": [
    {
     "name": "stdout",
     "output_type": "stream",
     "text": [
      "100\n",
      "200\n"
     ]
    }
   ],
   "source": [
    "# 파이썬에서의 상수는 변수명을 대문자로 표기하는 것으로 약속함\n",
    "MAXIMUN_HEALTH_POINT = 100\n",
    "print(MAXIMUN_HEALTH_POINT)\n",
    "\n",
    "# 상수로 사용하지만 값 변경이 가능하기 때문\n",
    "MAXIMUN_HEALTH_POINT = 200\n",
    "print(MAXIMUN_HEALTH_POINT)"
   ]
  },
  {
   "cell_type": "markdown",
   "id": "8b370d6c",
   "metadata": {},
   "source": [
    "## 3. 불타입 (Boolean Type)\n",
    "true, false"
   ]
  },
  {
   "cell_type": "code",
   "execution_count": 153,
   "id": "660d28f5",
   "metadata": {},
   "outputs": [
    {
     "name": "stdout",
     "output_type": "stream",
     "text": [
      "False\n"
     ]
    }
   ],
   "source": [
    "a = 10\n",
    "print(a < 0)   # 불타입으로 변환"
   ]
  },
  {
   "cell_type": "markdown",
   "id": "24460559",
   "metadata": {},
   "source": [
    "### 문자열 index 사용\n",
    "문자열안의 각 문자들은 인덱스를 가지며, 원하는 자리의 문자만을 출력하기 위해서는 대괄호안에 원하는 문자의 인덱스를 넣어 출력한다."
   ]
  },
  {
   "cell_type": "code",
   "execution_count": 181,
   "id": "59deda36",
   "metadata": {},
   "outputs": [
    {
     "name": "stdout",
     "output_type": "stream",
     "text": [
      "H\n",
      "P\n",
      "n\n",
      "o\n"
     ]
    }
   ],
   "source": [
    "str = \"Hello Python\"\n",
    "\n",
    "print(str[0])\n",
    "print(str[6])\n",
    "\n",
    "# 음수 사용 시 문자열의 뒷부분 부터 시작한다.\n",
    "print(str[-1])\n",
    "print(str[-8])"
   ]
  },
  {
   "cell_type": "markdown",
   "id": "de9e41d4",
   "metadata": {},
   "source": [
    "### 슬라이싱(Slicing)\n",
    "문자열을 잘라 원하는 부분만 보기 위해서는 대괄호안에 시작 인덱스와 끝 인덱스를 넣는다. ex) [0 : 3]"
   ]
  },
  {
   "cell_type": "code",
   "execution_count": 185,
   "id": "33b24342",
   "metadata": {},
   "outputs": [
    {
     "name": "stdout",
     "output_type": "stream",
     "text": [
      "Hel\n",
      "lo\n",
      "Hello\n",
      "Hello\n",
      "Python\n",
      "Hello Python\n"
     ]
    }
   ],
   "source": [
    "original_string = \"Hello Python\"\n",
    "print(original_string[0 : 3])\n",
    "print(original_string[3 : 5])\n",
    "print(original_string[0 : 5])\n",
    "print(original_string[:5])   # 첫 부분부터 자를때 시작 인덱스 생략이 가능하다.\n",
    "print(original_string[6:])   # 끝 부분까지 자를때 끝 인덱스 생략이 가능하다.\n",
    "print(original_string[:])    # 문자열 전체 출력 -> original_string 동일"
   ]
  },
  {
   "cell_type": "markdown",
   "id": "eabbc92e",
   "metadata": {},
   "source": [
    "### 포맷팅\n",
    "서식지정자 (주로 사용하는 것 위주)\n",
    "1. %d : 정수 출력 (demical number)\n",
    "2. %s : 문자열 출력 (string)\n",
    "3. %f : 실수형 출력 (float)\n",
    "4. %o : 8진 정수 출력 (octal number)\n",
    "5. %x : 16진 정수 출력 (hexa decimal)"
   ]
  },
  {
   "cell_type": "code",
   "execution_count": 227,
   "id": "ece61acc",
   "metadata": {},
   "outputs": [
    {
     "name": "stdout",
     "output_type": "stream",
     "text": [
      "my name is Jang\n",
      "나는 강아지와 고양이를 키운다.\n",
      "i have 7 apples\n",
      "pi = 3.141592\n",
      "pi = 3.141592\n"
     ]
    }
   ],
   "source": [
    "print(\"my name is %s\" % \"Jang\")    # 문자형\n",
    "\n",
    "dog = \"강아지\"\n",
    "cat = \"고양이\"\n",
    "print(\"나는 %s와 %s를 키운다.\" % (dog, cat))\n",
    "\n",
    "print(\"i have %d apples\" % 7)      # 정수형\n",
    "\n",
    "pi = 3.141592\n",
    "print(\"pi = %f\" % pi)   # 실수형\n",
    "print(\"pi = %s\" % pi)   # 실수형과 동일하게 보이지만, 실수형을 문자형으로 변환하여 출력한 값\n"
   ]
  },
  {
   "cell_type": "code",
   "execution_count": 235,
   "id": "3ad118ad",
   "metadata": {},
   "outputs": [
    {
     "name": "stdout",
     "output_type": "stream",
     "text": [
      "value = '        10'\n",
      "value = '10        '\n"
     ]
    }
   ],
   "source": [
    "# 정수형 정렬\n",
    "value = 10\n",
    "print(\"value = \\'%10d\\'\" % value)   # %d -> 오른쪽 정렬\n",
    "print(\"value = \\'%-10d\\'\" % value)   # %-d -> 왼쪽 정렬"
   ]
  },
  {
   "cell_type": "code",
   "execution_count": 238,
   "id": "861a6aef",
   "metadata": {},
   "outputs": [
    {
     "name": "stdout",
     "output_type": "stream",
     "text": [
      "fValue = 3.14\n"
     ]
    }
   ],
   "source": [
    "# 실수형 값을 소수점 몇 번째 자리까지 출력할 것인지 지정\n",
    "fValue = 3.141592\n",
    "print(\"fValue = %.2f\" % fValue)   # 소수점 2번째 까지 출력"
   ]
  },
  {
   "cell_type": "code",
   "execution_count": 243,
   "id": "b6e34688",
   "metadata": {},
   "outputs": [
    {
     "name": "stdout",
     "output_type": "stream",
     "text": [
      "I have 10 toys.\n",
      "나는 10개의 장난감과 5개의 과자를 가지고 있다.\n"
     ]
    }
   ],
   "source": [
    "# format\n",
    "num_toy = 10\n",
    "num_cookie = 5\n",
    "print(\"I have {0} toys.\" .format(num_toy))\n",
    "print(\"나는 {0}개의 장난감과 {1}개의 과자를 가지고 있다.\" .format(num_toy, num_cookie))"
   ]
  },
  {
   "cell_type": "markdown",
   "id": "b5232ae2",
   "metadata": {},
   "source": [
    "### f 포맷팅\n",
    "<li> 파이썬 버전 3.6이상만 지원한다.</li>"
   ]
  },
  {
   "cell_type": "code",
   "execution_count": 246,
   "id": "bed5b05f",
   "metadata": {},
   "outputs": [
    {
     "name": "stdout",
     "output_type": "stream",
     "text": [
      "나의 이름은 홍길동이고, 나이는 16살 입니다.\n"
     ]
    }
   ],
   "source": [
    "name = \"홍길동\"\n",
    "age = 16\n",
    "print(f\"나의 이름은 {name}이고, 나이는 {age}살 입니다.\")"
   ]
  },
  {
   "cell_type": "markdown",
   "id": "93c57688",
   "metadata": {},
   "source": [
    "### join() 메소드\n",
    "\"문자열에 넣고 싶은 문자\".join(\"원래 문자열\")"
   ]
  },
  {
   "cell_type": "code",
   "execution_count": 252,
   "id": "72c0df38",
   "metadata": {},
   "outputs": [
    {
     "name": "stdout",
     "output_type": "stream",
     "text": [
      "a.b.c.d\n"
     ]
    }
   ],
   "source": [
    "result = \".\".join(\"abcd\")\n",
    "print(result)"
   ]
  }
 ],
 "metadata": {
  "kernelspec": {
   "display_name": "Python 3 (ipykernel)",
   "language": "python",
   "name": "python3"
  },
  "language_info": {
   "codemirror_mode": {
    "name": "ipython",
    "version": 3
   },
   "file_extension": ".py",
   "mimetype": "text/x-python",
   "name": "python",
   "nbconvert_exporter": "python",
   "pygments_lexer": "ipython3",
   "version": "3.10.9"
  }
 },
 "nbformat": 4,
 "nbformat_minor": 5
}
