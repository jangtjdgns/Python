{
 "cells": [
  {
   "cell_type": "markdown",
   "id": "63007404",
   "metadata": {},
   "source": [
    "### 리스트와 딕셔너리에서 while 문 사용\n",
    "- 웹사이트에 새로 가입은 했지만 아직 확인되지 않은 사용자 리스트가 있다고 하자. 이들 사용자를 확인한 다음, 다른 리스트인 확인된 사용자 리스트에 옮기려면 어떻게 해야 할까? 한가지 방법은 while 문을 사용해서 확인되지 않은 사용자 리스트에서 사용자를 꺼내서 확인된 사용자 리스트에 추가하는 것이다."
   ]
  },
  {
   "cell_type": "code",
   "execution_count": 1,
   "id": "e12ee128",
   "metadata": {},
   "outputs": [
    {
     "name": "stdout",
     "output_type": "stream",
     "text": [
      "확인된 사용자 : 금희\n",
      "확인된 사용자 : 미영\n",
      "확인된 사용자 : 현석\n",
      "\n",
      "확인된 사용자들은 다음과 같습니다.\n",
      "금희\n",
      "미영\n",
      "현석\n"
     ]
    }
   ],
   "source": [
    "unconfirmed_users = ['현석', '미영', '금희']   # 확인되지 않은 사용자들\n",
    "confirmed_users = []   #확인된 사용자를 담을 리스트\n",
    "\n",
    "while unconfirmed_users:   # 리스트가 비어 있지 않으면 조건식은 참\n",
    "    current_user = unconfirmed_users.pop()\n",
    "    \n",
    "    print(f\"확인된 사용자 : {current_user}\")\n",
    "    confirmed_users.append(current_user)   # 첫 번째 루프 수행후 :unconfirmed_user = ['현석', '미영']\n",
    "                                           #                     :confrimed_user = ['금희']\n",
    "                                           # 두 번째 루프 수행후 :unconfirmed_user = ['현석']\n",
    "                                           #                     :confrimed_user = ['금희', '미영']\n",
    "                                           # 세 번째 루프 수행후 :unconfirmed_user = []\n",
    "                                           #                     :confrimed_user = ['금희', '미영', '현석']\n",
    "\n",
    "print(\"\\n확인된 사용자들은 다음과 같습니다.\")\n",
    "for confirmed_user in confirmed_users:\n",
    "    print(confirmed_user)"
   ]
  },
  {
   "cell_type": "markdown",
   "id": "2bfb7294",
   "metadata": {},
   "source": [
    "### 리스트에서 특정 값을 모두 제거하기\n",
    "- 리스트 클래스의 remove() 메서드는 리스트안의 특정 요소를 제거할 수 있다. 리스트에 특정 값이 여러 개 존재하는 경우 모두 제거하려면 어떻게 해야할까?  \n",
    "다음 예에서 문자열 'cat'을 여러개 포함하는 리스트가 있을때, while 문을 사용하여 모든 'cat'문자열을 제거한다."
   ]
  },
  {
   "cell_type": "code",
   "execution_count": 2,
   "id": "675341b0",
   "metadata": {},
   "outputs": [
    {
     "name": "stdout",
     "output_type": "stream",
     "text": [
      "['dog', 'cat', 'dog', 'goldfish', 'cat', 'rabbit', 'cat']\n",
      "['cat', 'goldfish', 'cat', 'rabbit', 'cat']\n"
     ]
    }
   ],
   "source": [
    "pets = ['dog', 'cat', 'dog', 'goldfish', 'cat', 'rabbit', 'cat']\n",
    "print(pets)\n",
    "\n",
    "while 'dog' in pets:\n",
    "    pets.remove('dog')\n",
    "    \n",
    "print(pets)"
   ]
  },
  {
   "cell_type": "markdown",
   "id": "52a013ae",
   "metadata": {},
   "source": [
    "### 사용자가 입력한 값으로 딕셔너리 채우기\n",
    "- while 문을 사용하여 루프가 반복될 때마다 참가자 이름과 응답을 묻는 설문 프로그램을 만들어 보자. 각 응답은 특정 사용자와 연결해야 하므로 수집한 데이터를 딕셔너리에 저장한다."
   ]
  },
  {
   "cell_type": "code",
   "execution_count": 4,
   "id": "c4b7321f",
   "metadata": {},
   "outputs": [
    {
     "name": "stdout",
     "output_type": "stream",
     "text": [
      "\n",
      "이름을 입력하세요. : 홍길동\n",
      "\n",
      "등산하기를 원하는 산 이름은 무엇입니까? : 계룡산\n",
      "다음 사람을 조사하겠습니까? (yes/no)yes\n",
      "\n",
      "이름을 입력하세요. : 김가을\n",
      "\n",
      "등산하기를 원하는 산 이름은 무엇입니까? : 금오산\n",
      "다음 사람을 조사하겠습니까? (yes/no)no\n",
      "\n",
      "설문조사를 종료합니다.\n",
      "\n",
      "----------------- 설문 결과 -----------------\n",
      "홍길동님은 계룡산을 등산하기 원합니다.\n",
      "김가을님은 금오산을 등산하기 원합니다.\n"
     ]
    }
   ],
   "source": [
    "responses = {}\n",
    "\n",
    "polling_active = True   # flag 설정\n",
    "\n",
    "while polling_active:\n",
    "    name = input(\"\\n이름을 입력하세요. : \")   # 딕셔너리의 키\n",
    "    response = input(\"\\n등산하기를 원하는 산 이름은 무엇입니까? : \")   # 딕셔너리의 값\n",
    "    \n",
    "    responses[name] = response\n",
    "    \n",
    "    repeat = input(\"다음 사람을 조사하겠습니까? (yes/no)\")\n",
    "    if repeat == 'no':\n",
    "        print(\"\\n설문조사를 종료합니다.\")\n",
    "        polling_active = False\n",
    "        \n",
    "print(\"\\n----------------- 설문 결과 -----------------\")\n",
    "\n",
    "for name, response in responses.items():\n",
    "    print(f\"{name}님은 {response}을 등산하기 원합니다.\")"
   ]
  },
  {
   "cell_type": "markdown",
   "id": "b90eaf71",
   "metadata": {},
   "source": [
    "### 연습문제\n",
    "1. 샌드위치 가게의 주문 리스트가 다음과 같을 때\n",
    "- sandwich_orders = ['에그슈림프', '크렌베리치킨', '레드타코치킨', '통밀레드치킨']\n",
    "  \n",
    "  빈 리스트 finished_sandwiches를 만들고 샌드위치 주문 리스트에 대해 while 문을 사용해서 반복하며 \"에그슈림프 샌드위치를 만들고 있습니다.\" 같은 메시지를 출력하라.  \n",
    "  \n",
    "  각 샌드위치가 만들어지면 리스트 finished_sandwiches로 옮긴다. 모든 샌드위치를 다 만들면 각 샌드위치를 나열하는 \"에그슈림프 샌드위치를 만들었습니다.\"와 같은 메시지를 출력하라."
   ]
  },
  {
   "cell_type": "code",
   "execution_count": 15,
   "id": "4c7419b6",
   "metadata": {},
   "outputs": [
    {
     "name": "stdout",
     "output_type": "stream",
     "text": [
      "통밀레드치킨 샌드위치를 만들고 있습니다.\n",
      "레드타코치킨 샌드위치를 만들고 있습니다.\n",
      "크렌베리치킨 샌드위치를 만들고 있습니다.\n",
      "에그슈림프 샌드위치를 만들고 있습니다.\n",
      "\n",
      "\n",
      "통밀레드치킨 샌드위치를 만들었습니다.\n",
      "레드타코치킨 샌드위치를 만들었습니다.\n",
      "크렌베리치킨 샌드위치를 만들었습니다.\n",
      "에그슈림프 샌드위치를 만들었습니다.\n"
     ]
    }
   ],
   "source": [
    "sandwich_orders = ['에그슈림프', '크렌베리치킨', '레드타코치킨', '통밀레드치킨']\n",
    "finished_sandwiches = []\n",
    "\n",
    "while sandwich_orders:\n",
    "    current_sanwich = sandwich_orders.pop()\n",
    "    print(f\"{current_sanwich} 샌드위치를 만들고 있습니다.\")\n",
    "    \n",
    "    finished_sandwiches.append(current_sanwich)\n",
    "\n",
    "print(\"\\n\")\n",
    "\n",
    "for sandwich in finished_sandwiches:\n",
    "    print(f\"{sandwich} 샌드위치를 만들었습니다.\")"
   ]
  },
  {
   "cell_type": "markdown",
   "id": "735d0798",
   "metadata": {},
   "source": [
    "# 함수 (function)\n",
    "- 함수(function)란 하나의 특별한 목적의 작업을 수행하기 위해 독립적으로 설계된 **코드의 집합** 으로 정의할 수 있다.\n",
    "- 함수를 사용하는 이유는 반복적인 프로그래밍을 피할 수 있기 때문이다. 프로그램에서 특정 작업을 여러 번 반복해야 할 때는 해당 작업을 수행하는 함수를 작성하면 된다. 프로그램 개발시 필요할 때마다 미리 작성한 함수를 호출하면 해당 작업을 반복해서 수행할 수 있다. 또한, 프로그램을 여러개의 함수로 나누어 작성하면, 모듈화로 인해 전체적인 코드의 가독성이 좋아진다. 프로그램에 문제가 발생하거나 기능의 변경이 필요할 때에도 손쉽게 유지보수를 할 수 있다. 함수의 크기에 대해서 정확히 명시된 규칙은 없으나, 하나의 기능을 하나의 함수로 만드는 것이 가장 좋다."
   ]
  },
  {
   "cell_type": "markdown",
   "id": "87ab8184",
   "metadata": {},
   "source": [
    "## 함수의 정의\n",
    "- 다음은 사용자에게 환영 인사를 표시하는 great_user() 함수이다."
   ]
  },
  {
   "cell_type": "code",
   "execution_count": 23,
   "id": "bd42921b",
   "metadata": {},
   "outputs": [
    {
     "name": "stdout",
     "output_type": "stream",
     "text": [
      "hello\n",
      "hello\n"
     ]
    }
   ],
   "source": [
    "def great_user():    # 함수의 정의   # definition(정의)의 줄임말\n",
    "    print(\"hello\")   # 함수가 수행할 몸통(body)\n",
    "    \n",
    "# 함수 호출\n",
    "great_user()\n",
    "great_user()"
   ]
  },
  {
   "cell_type": "markdown",
   "id": "de377b64",
   "metadata": {},
   "source": [
    "- 파이썬에서는 함수를 정의하기 위해 **키워드 def**를 사용한다. great_user가 함수의 이름이고, 위 함수에는 입력값은 없다. 함수의 입력값은 함수명 옆의 소괄호 안에 작성하면 된다. 함수의 정의는 클로(:)으로 끝난다.\n",
    "\n",
    "- def great_user(): 다음의 들여쓰기 한 문장들이 함수의 바디(Bdoy)가 된다. 이는 함수가 수행할 명령들의 집합이다.\n",
    "- great_user() 함수의 바디에서 유일하게 수행되는 명령은 print(\"hello\")인데 명령들이 여러개인 경우에는 들여쓰기를 맞추어서 아래에 작성하면된다.\n",
    "- 함수를 실행하기 위해서는 great_user()와 같이 함수명을 써주면 되고, 이를 '함수를 호출한다'라고 표현한다. 함수를 호출하면 함수의 바디 부분의 명령들이 수행된다."
   ]
  },
  {
   "cell_type": "markdown",
   "id": "c2f57775",
   "metadata": {},
   "source": [
    "## 함수에 정보 전달\n",
    "- great_user() 함수를 수정하여 hello! 다음에 사용자의 이름을 추가하여 출력해보자. def great_user()의 소괄호 안에 매개변수(parameter)명을 username으로 작성하여 값을 받는 용도로 사용하겠다.\n",
    "- 이제 함수를 호출할 때 괄호 안에 매개변수에 저장할 '홍길동'과 같은 입력값을 넘겨서 호출할 수 있다."
   ]
  },
  {
   "cell_type": "code",
   "execution_count": 25,
   "id": "a73d2670",
   "metadata": {},
   "outputs": [
    {
     "name": "stdout",
     "output_type": "stream",
     "text": [
      "Hello, 홍길동\n"
     ]
    }
   ],
   "source": [
    "def great_user(username):   # username은 매개변수고 함수안에서 사용할 데이터를 받는 용도로 사용한다.\n",
    "    print(f\"Hello, {username}\")\n",
    "    \n",
    "great_user(\"홍길동\")   # 함수 호출"
   ]
  },
  {
   "cell_type": "code",
   "execution_count": 26,
   "id": "20f3b947",
   "metadata": {},
   "outputs": [
    {
     "name": "stdout",
     "output_type": "stream",
     "text": [
      "Hello, 길복순\n"
     ]
    }
   ],
   "source": [
    "great_user(\"길복순\")   # 함수 호출"
   ]
  },
  {
   "cell_type": "markdown",
   "id": "f5c7bfc2",
   "metadata": {},
   "source": [
    "### 매개 변수\n",
    "- great-user() 함수는 매개변수 username에 값을 대입하도록 요구하고있다. 함수를 호출할 때 사람 이름을 넘겨주면 사람이름을 포함한 환영 인사를 출력한다.\n",
    "\n",
    "- great_user()의 정의에서 변수 username을 매개변수(parameter)라고 하고, 매개변수는 실제 데이터를 이용해서 함수를 호출할 때 값을 넘겨받는 매개체가 된다. 함수를 호출할 때 넘겨준 '홍길동'이나 '길복순'과 같은 문자열을 우리는 실인자(argument)라고 부른다. 함수를 호출하면 실인자가 함수의 매개변수로 전달되어 함수 안에서 사용된다."
   ]
  },
  {
   "cell_type": "markdown",
   "id": "9ce59ef5",
   "metadata": {},
   "source": [
    "### 연습문제\n",
    "1. 매개변수로 song을 사용하는 함수 favorite_song() 함수를 만들어 보세요. 함수 안에서 \"내가 가장 좋아하는 노래는 문어의 꿈입니다.\"와 같은 문장을 출력해야 합니다. 함수를 호출할 때 노래제목을 실인자로 사용하여 호출해보세요."
   ]
  },
  {
   "cell_type": "code",
   "execution_count": 31,
   "id": "1260c407",
   "metadata": {},
   "outputs": [
    {
     "name": "stdout",
     "output_type": "stream",
     "text": [
      "내가 가장 좋아하는 노래는 문어의 꿈입니다.\n"
     ]
    }
   ],
   "source": [
    "def favorite_song(song):\n",
    "    print(f\"내가 가장 좋아하는 노래는 {song}입니다.\")\n",
    "\n",
    "favorite_song(\"문어의 꿈\")"
   ]
  },
  {
   "cell_type": "markdown",
   "id": "e329188d",
   "metadata": {},
   "source": [
    "## 매개 변수 전달\n",
    "- 함수를 정의할 때 매개변수를 여러 개 받도록 정의할 수 있다. 파이썬에서 함수의 매개변수를 정의하는 방법은 여러가지이다. 함수 정의에서 매개변수를 선언한 순서대로 실인자 값을 넘겨 주는 위치형 매개변수를 쓸 수 있고, 매개 변수가 변수의 이름과 값으로 구성되는 키워드 매개변수를 쓸 수 있고, 리스트나 딕셔너리도 넘길 수 있다."
   ]
  },
  {
   "cell_type": "markdown",
   "id": "ecbd62ee",
   "metadata": {},
   "source": [
    "### 위치형 매개변수\n",
    "- 함수를 호출하면 파이썬은 넘겨받은 각 실인자(값)를 함수 정의에 나열한 매개변수와 연결한다. 가장 단순한 방법은 매개변수가 나열된 순서대로 실인자 값을 넘겨주는 것이다. 이런 식으로 맞춰진 값을 위치형 매개변수라고 한다.\n",
    "\n",
    "\\- 다음과 같이 반려 동물에 관한 정보를 출력하는 함수가 있다고 하자. 이 함수는 다음과 같이 반려동물의 종류와 이름을 출력한다."
   ]
  },
  {
   "cell_type": "code",
   "execution_count": 32,
   "id": "e0f15094",
   "metadata": {
    "scrolled": true
   },
   "outputs": [
    {
     "name": "stdout",
     "output_type": "stream",
     "text": [
      "\n",
      "나는 강아지을 키우고 있습니다.\n",
      "내가 키우는 강아지의 이름은 해피입니다.\n"
     ]
    }
   ],
   "source": [
    "def describe_pet(animal_type, pet_name):\n",
    "    print(f\"\\n나는 {animal_type}을 키우고 있습니다.\")\n",
    "    print(f\"내가 키우는 {animal_type}의 이름은 {pet_name}입니다.\")\n",
    "    \n",
    "describe_pet('강아지', '해피')"
   ]
  },
  {
   "cell_type": "markdown",
   "id": "490466f1",
   "metadata": {},
   "source": [
    "- decribe_pet 함수의 정의에서는 매개변수를 동물 종류와 이름으로 요구한다. 함수를 호출할 때는 종류와 이름을 순서대로 매개변수에 넘겨야 한다. 이 예제에서는 매개변수 animal_type에 대입될 실인자 값인 '강아지'와 매개변수 pet_name에 대입될 실인자 값인 '해피'를 정의된 순서대로 넘기고 있다."
   ]
  },
  {
   "cell_type": "markdown",
   "id": "246675cb",
   "metadata": {},
   "source": [
    "### 키워드 매개변수\n",
    "- 키워드 매개변수는 함수에 넘기는 키-값 쌍이다. 매개변수 안에 이름과 값을 묶으므로 함수에 실인자를 넘길 때 혼란스러운 일이 없고, 호출할 때 순서를 걱정할 필요도 없다."
   ]
  },
  {
   "cell_type": "code",
   "execution_count": 34,
   "id": "9caeb749",
   "metadata": {},
   "outputs": [
    {
     "name": "stdout",
     "output_type": "stream",
     "text": [
      "\n",
      "나는 강아지을 키우고 있습니다.\n",
      "내가 키우는 강아지의 이름은 해피입니다.\n"
     ]
    }
   ],
   "source": [
    "def decribe_pet(animal_type, pet_name):\n",
    "    print(f\"\\n나는 {animal_type}을 키우고 있습니다.\")\n",
    "    print(f\"내가 키우는 {animal_type}의 이름은 {pet_name}입니다.\")\n",
    "    \n",
    "describe_pet(animal_type = '강아지', pet_name = '해피')"
   ]
  },
  {
   "cell_type": "code",
   "execution_count": 35,
   "id": "6b8e0a50",
   "metadata": {},
   "outputs": [
    {
     "name": "stdout",
     "output_type": "stream",
     "text": [
      "\n",
      "나는 강아지을 키우고 있습니다.\n",
      "내가 키우는 강아지의 이름은 해피입니다.\n"
     ]
    }
   ],
   "source": [
    "describe_pet(pet_name = '해피', animal_type = '강아지')"
   ]
  },
  {
   "cell_type": "markdown",
   "id": "f7fe6380",
   "metadata": {},
   "source": [
    "- describe_pet() 함수 자체에는 변화가 없다. 하지만 함수를 호출할 때 어떤 매개변수에 어떤 실인자 값을 연결할지 명시적으로 지정했다. 값을 어디에 연결할지 명확히 함으로써 매개변수의 순서 문제가 해결됐다."
   ]
  },
  {
   "cell_type": "markdown",
   "id": "7797d4d8",
   "metadata": {},
   "source": [
    "### 기본값 지정\n",
    "- 함수를 정의할 때 매개변수의 기본값을 정할 수 있다. 함수를 호출할 때 실인자값을 넘기면 함수 실행시 그 값을 사용한다. 실인자 값을 넘기지 않으면 함수 정의시 설정한 기본값을 사용한다. 매개변수의 기본값을 정의해두면 함수 호출시 해당 매개변수는 생략할 수 있다.\n",
    "\n",
    "- 예를들어 함수 describe_pet() 호출이 대부분 개에 대한 내용을 출력한다면 animal_type의 기본값을 'dog'로 정할 수 있다. 함수를 호출할 때는 animal_type에 해당하는 실인자를 넘기지 않아도 기본값을 dog로 설정하여 실행가능하다."
   ]
  },
  {
   "cell_type": "code",
   "execution_count": 46,
   "id": "f261fd0b",
   "metadata": {},
   "outputs": [
    {
     "name": "stdout",
     "output_type": "stream",
     "text": [
      "\n",
      "나는 해피을 키우고 있습니다.\n",
      "내가 키우는 해피의 이름은 강아지입니다.\n"
     ]
    }
   ],
   "source": [
    "def describe_pet(pet_name, animal_type = '강아지'):   # 디폴트는 뒤에서 부터 앞으로 지정해야함\n",
    "    print(f\"\\n나는 {animal_type}을 키우고 있습니다.\")\n",
    "    print(f\"내가 키우는 {animal_type}의 이름은 {pet_name}입니다.\")\n",
    "    \n",
    "describe_pet(\"강아지\", \"해피\")"
   ]
  },
  {
   "cell_type": "code",
   "execution_count": 40,
   "id": "d7c2ba4a",
   "metadata": {},
   "outputs": [
    {
     "name": "stdout",
     "output_type": "stream",
     "text": [
      "\n",
      "나는 강아지을 키우고 있습니다.\n",
      "내가 키우는 강아지의 이름은 해피입니다.\n"
     ]
    }
   ],
   "source": [
    "describe_pet(\"해피\")"
   ]
  },
  {
   "cell_type": "code",
   "execution_count": 41,
   "id": "dd9f2512",
   "metadata": {},
   "outputs": [
    {
     "name": "stdout",
     "output_type": "stream",
     "text": [
      "\n",
      "나는 고양이을 키우고 있습니다.\n",
      "내가 키우는 고양이의 이름은 톰입니다.\n"
     ]
    }
   ],
   "source": [
    "describe_pet(\"톰\", \"고양이\")"
   ]
  },
  {
   "cell_type": "markdown",
   "id": "b8e1b178",
   "metadata": {},
   "source": [
    "### 연습문제\n",
    "1. 티셔츠 사이즈와 티셔츠에 인쇄할 메시지를 받는 make_shirt() 함수를 만드세요. 이 함수는 티셔츠 사이즈와 티셔츠에 인쇄할 메시지를 출력해야 합니다. 위치형 매개변수를 사용해 함수를 한 번 호출하세요. 두번째는 키워드 매개변수를 사용해 호출하세요. 티셔츠 사이즈는 'samll', 'medium', 'large' 중 하나를 호출시 실인자 값으로 사용하세요."
   ]
  },
  {
   "cell_type": "code",
   "execution_count": 50,
   "id": "444ecbc8",
   "metadata": {},
   "outputs": [
    {
     "name": "stdout",
     "output_type": "stream",
     "text": [
      "\n",
      "티셔츠 사이즈는 samll입니다.\n",
      "다른 사이즈 드릴까요?\n",
      "\n",
      "\n",
      "\n",
      "티셔츠 사이즈는 large입니다.\n",
      "사이즈는 맞으세요?\n"
     ]
    }
   ],
   "source": [
    "def make_shirt(talk, size = 'large'):\n",
    "    print(f\"\\n티셔츠 사이즈는 {size}입니다.\\n{talk}\")\n",
    "\n",
    "make_shirt(\"다른 사이즈 드릴까요?\", \"samll\")\n",
    "print(\"\\n\")\n",
    "make_shirt(\"사이즈는 맞으세요?\")"
   ]
  },
  {
   "cell_type": "markdown",
   "id": "8b0597ab",
   "metadata": {},
   "source": [
    "## 반환값(return value)\n",
    "- 함수는 데이터를 처리하고 처리한 결과를 반환하기도 한다. 함수가 변환하는 값을 반환값이라고 하고, 함수에서 값을 반환하기 위해서는 return 문을 사용하는데 함수에서 처리한 결과를 호출한 행으로 반환한다.\n",
    "- 다음 예제는 성과 이름을 입력으로 받아 전체 이름(Full name)을 반환하는 함수의 예이다."
   ]
  },
  {
   "cell_type": "code",
   "execution_count": 51,
   "id": "6525bf85",
   "metadata": {},
   "outputs": [
    {
     "name": "stdout",
     "output_type": "stream",
     "text": [
      "Justin Beiber\n"
     ]
    }
   ],
   "source": [
    "def get_formatted_name(first_name, last_name):\n",
    "    full_name = f\"{first_name} {last_name}\"\n",
    "    return full_name\n",
    "\n",
    "musician = get_formatted_name('justin', 'beiber')\n",
    "print(musician.title())"
   ]
  },
  {
   "cell_type": "markdown",
   "id": "e552327a",
   "metadata": {},
   "source": [
    "## 매개변수를 선택적으로 사용\n",
    "- 가끔은 매개변수를 선택사항으로 두어 함수를 사용하는 사람이 원할 때만 추가 정보를 제공하는게 합리적일 수 있다. 이 때 매개변수에 기본값을 사용하면 함수 호출시 유동적으로 사용할 수 있다.\n",
    "\n",
    "- 예를 들어 서양권에서는 이름에 중간이름(middle name)이 있는 경우도 있는데 get_formatted_name() 함수가 중간 이름도 처리할 수 있게 확장하고 싶다면 다음과 같이 프로그램을 작성할 수 있다."
   ]
  },
  {
   "cell_type": "code",
   "execution_count": 53,
   "id": "bc7da752",
   "metadata": {},
   "outputs": [
    {
     "name": "stdout",
     "output_type": "stream",
     "text": [
      "Peter Gene Hernandez\n"
     ]
    }
   ],
   "source": [
    "def get_formatted_name(first_name, middle_name, last_name):\n",
    "    full_name = f\"{first_name} {middle_name} {last_name}\"\n",
    "    return full_name\n",
    "\n",
    "musician = get_formatted_name('peter', 'gene', 'hernandez')\n",
    "print(musician.title())"
   ]
  },
  {
   "cell_type": "markdown",
   "id": "6f1b1df8",
   "metadata": {},
   "source": [
    "- 위 함수는 항상 중간 이름을 입력할 것을 요구한다. 중간이름이 없는 경우도 있을 수 있으므로 이런 경우 중간 이름을 선택사항으로 지정해서 함수 호출시 중간이름을 제공하지 않으면 middle_name 매개 변수를 무시하게 하면 된다.\n",
    "- 다음과 같이 get_formatted_name() 함수가 중간 이름을 실인자 값으로 사용하지 않아도 동작하도록 middle_name에 빈 문자열을 기본값으로 지정하고 매개변수 리스트의 맨 뒤로 옮기면 된다."
   ]
  },
  {
   "cell_type": "code",
   "execution_count": 57,
   "id": "695d9a6d",
   "metadata": {},
   "outputs": [
    {
     "name": "stdout",
     "output_type": "stream",
     "text": [
      "Justin Beiber\n",
      "Peter Hernandez Gene\n"
     ]
    }
   ],
   "source": [
    "def get_formatted_name(first_name, last_name, middle_name = \"\"):\n",
    "    if middle_name:\n",
    "        full_name = f\"{first_name} {middle_name} {last_name}\"\n",
    "    else:\n",
    "        full_name = f\"{first_name} {last_name}\"\n",
    "        \n",
    "    return full_name\n",
    "\n",
    "musicain = get_formatted_name('justin', 'beiber')\n",
    "print(musicain.title())\n",
    "\n",
    "musicain = get_formatted_name('peter', 'gene', 'hernandez')\n",
    "print(musicain.title())"
   ]
  },
  {
   "cell_type": "markdown",
   "id": "1f9e37fd",
   "metadata": {},
   "source": [
    "### 딕셔너리를 반환\n",
    "- 함수는 어떤 타입의 값이라도 반환할 수 있다. 그러므로 리스트나 딕셔너리와 같은 복잡한 자료구조도 반환할 수 있다.\n",
    "- 다음은 first_name과 lsat_name을 입력받아 딕셔너리 형으로 반환하는 예이다."
   ]
  },
  {
   "cell_type": "code",
   "execution_count": 59,
   "id": "851bdbc4",
   "metadata": {},
   "outputs": [
    {
     "name": "stdout",
     "output_type": "stream",
     "text": [
      "{'first': 'justin', 'last': 'beiber'}\n"
     ]
    }
   ],
   "source": [
    "def build_person(first_name, last_name):\n",
    "    person = {'first' : first_name, 'last' : last_name}\n",
    "    return person\n",
    "\n",
    "musician = build_person('justin', 'beiber')   # 변수 musician이 넘겨 받는 데이터 타입은 딕셔너리\n",
    "print(musician)"
   ]
  },
  {
   "cell_type": "markdown",
   "id": "543b1948",
   "metadata": {},
   "source": [
    "- 위 함수는 단순한 텍스트 정보를 받아서 더 의미 있는 자료구조에 넣어서 반환하므로 단순히 출력만 하는게 아니라 더 많은 일을 할 수가 있다. 이 함수를 확장해서 중간이름이나 나이, 직업, 기타 등 그 사람에 관한 정보를 저장할 수도 있다.  \n",
    "\n",
    "\\- 예를 들어 다음과 같이 작성하면 그 사람의 나이도 저장할 수 있는 함수가 되는 것이다."
   ]
  },
  {
   "cell_type": "code",
   "execution_count": 60,
   "id": "0196e0c8",
   "metadata": {},
   "outputs": [
    {
     "name": "stdout",
     "output_type": "stream",
     "text": [
      "{'first': 'justin', 'last': 'beiber', 'age': 29}\n"
     ]
    }
   ],
   "source": [
    "def build_person(first_name, last_name, age = None):\n",
    "    person = {'first' : first_name, 'last' : last_name}\n",
    "    \n",
    "    if age:\n",
    "        person['age'] = age\n",
    "    return person\n",
    "\n",
    "musician = build_person('justin', 'beiber', age = 29)\n",
    "print(musician)"
   ]
  },
  {
   "cell_type": "code",
   "execution_count": 61,
   "id": "4a0c8a24",
   "metadata": {},
   "outputs": [
    {
     "name": "stdout",
     "output_type": "stream",
     "text": [
      "{'first': 'justin', 'last': 'beiber'}\n"
     ]
    }
   ],
   "source": [
    "musician = build_person('justin', 'beiber')\n",
    "print(musician)"
   ]
  },
  {
   "cell_type": "markdown",
   "id": "c423274d",
   "metadata": {},
   "source": [
    "### while 문 안에서 함수 호출"
   ]
  },
  {
   "cell_type": "code",
   "execution_count": 63,
   "id": "d23ce88d",
   "metadata": {},
   "outputs": [
    {
     "name": "stdout",
     "output_type": "stream",
     "text": [
      "\n",
      "이름을 입력하세요. : \n",
      "(종료하려면 'q'를 누르세요.)\n",
      "First name : 장\n",
      "Last name : 성훈\n",
      "\n",
      "Hello, 장 성훈!\n",
      "\n",
      "이름을 입력하세요. : \n",
      "(종료하려면 'q'를 누르세요.)\n",
      "First name : q\n",
      "프로그램을 종료합니다.\n"
     ]
    }
   ],
   "source": [
    "def get_formatted_name(first_name, last_name):\n",
    "    full_name = f\"{first_name} {last_name}\"\n",
    "    return full_name\n",
    "\n",
    "while True:\n",
    "    print(\"\\n이름을 입력하세요. : \")\n",
    "    print(\"(종료하려면 'q'를 누르세요.)\")\n",
    "    \n",
    "    f_name = input(\"First name : \")\n",
    "    if f_name == 'q':\n",
    "        break\n",
    "    \n",
    "    l_name = input(\"Last name : \")\n",
    "    if l_name == 'q':\n",
    "        break\n",
    "    \n",
    "    full_name = get_formatted_name(f_name, l_name)\n",
    "    print(f\"\\nHello, {full_name}!\")\n",
    "\n",
    "print(\"프로그램을 종료합니다.\")"
   ]
  },
  {
   "cell_type": "markdown",
   "id": "18cfcbac",
   "metadata": {},
   "source": [
    "### 연습문제\n",
    "- 음악 앨범에 관해 설명하는 딕셔너리를 생성하여 반환하는 make_album() 함수를 만드세요. 이 함수는 음악가 이름과 앨범 타이틀을 입력을 받아 이들 정보가 들어있는 딕셔너리를 반환해야 합니다. 이 함수를 사용해 세 개의 앨범을 나타내는 세가지 딕셔너리를 만드세요. 각 반환값을 출력해 앨범 정보를 확인하세요."
   ]
  },
  {
   "cell_type": "code",
   "execution_count": 2,
   "id": "e0d1ce68",
   "metadata": {},
   "outputs": [
    {
     "name": "stdout",
     "output_type": "stream",
     "text": [
      "\n",
      "음악가 이름을 입력하세요.\n",
      "(종료하려면 'q'를 누르세요.)\n",
      "이름 : J\n",
      "\n",
      "앨범 제목을 입력하세요.\n",
      "(종료하려면 'q'를 누르세요.)\n",
      "앨범 : HAPPY\n",
      "\n",
      "[음악가 이름 : J    앨범 : HAPPY]\n",
      "\n",
      "음악가 이름을 입력하세요.\n",
      "(종료하려면 'q'를 누르세요.)\n",
      "이름 : S\n",
      "\n",
      "앨범 제목을 입력하세요.\n",
      "(종료하려면 'q'를 누르세요.)\n",
      "앨범 : LOVE\n",
      "\n",
      "[음악가 이름 : S    앨범 : LOVE]\n",
      "\n",
      "음악가 이름을 입력하세요.\n",
      "(종료하려면 'q'를 누르세요.)\n",
      "이름 : H\n",
      "\n",
      "앨범 제목을 입력하세요.\n",
      "(종료하려면 'q'를 누르세요.)\n",
      "앨범 : JOY\n",
      "\n",
      "[음악가 이름 : H    앨범 : JOY]\n",
      "\n",
      "음악가 이름을 입력하세요.\n",
      "(종료하려면 'q'를 누르세요.)\n",
      "이름 : q\n",
      "프로그램을 종료합니다.\n"
     ]
    }
   ],
   "source": [
    "def make_album(musician, album_title):\n",
    "    print(f\"\\n[음악가 이름 : {musician}    앨범 : {album_title}]\")\n",
    "\n",
    "while True:\n",
    "    print(\"\\n음악가 이름을 입력하세요.\")\n",
    "    print(\"(종료하려면 'q'를 누르세요.)\")\n",
    "    m_name = input(\"이름 : \")\n",
    "    if m_name == 'q':\n",
    "        break\n",
    "        \n",
    "    print(\"\\n앨범 제목을 입력하세요.\")\n",
    "    print(\"(종료하려면 'q'를 누르세요.)\")\n",
    "    a_title = input(\"앨범 : \")\n",
    "    if a_title == 'q':\n",
    "        break\n",
    "    \n",
    "    make_album(m_name, a_title)\n",
    "    \n",
    "print(\"프로그램을 종료합니다.\")"
   ]
  }
 ],
 "metadata": {
  "kernelspec": {
   "display_name": "Python 3 (ipykernel)",
   "language": "python",
   "name": "python3"
  },
  "language_info": {
   "codemirror_mode": {
    "name": "ipython",
    "version": 3
   },
   "file_extension": ".py",
   "mimetype": "text/x-python",
   "name": "python",
   "nbconvert_exporter": "python",
   "pygments_lexer": "ipython3",
   "version": "3.10.9"
  }
 },
 "nbformat": 4,
 "nbformat_minor": 5
}
